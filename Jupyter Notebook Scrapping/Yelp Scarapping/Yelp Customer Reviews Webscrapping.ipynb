{
 "cells": [
  {
   "cell_type": "markdown",
   "metadata": {
    "id": "yM9tOOSSqGB3"
   },
   "source": [
    "# Web Scraping and Sentiment Analysis of Food Reviews\n",
    "\n",
    "In this project I have web scraped the 8 MilePi Pizza reviews on Yelp. It is a website for finding restaurants, homeservices etc. First, I have scraped the reviews using BeautifulSoup. Then for sentiment analysis, I have passed them through the state of the art NLP model BERT. BERT(Bidirectional Encoder Representation from Transformer) is NLP machine learning model pretrained by Google. Here the model is already trained on big data and we are using it to predict the sentiment related to our reviews scraped from the Yelp.com website. This is a good case of \"Transfer Learning\"."
   ]
  },
  {
   "cell_type": "markdown",
   "metadata": {
    "id": "pQ0dm-L7SQsy"
   },
   "source": [
    "## 1. Install and Import Dependencies"
   ]
  },
  {
   "cell_type": "code",
   "execution_count": 1,
   "metadata": {
    "colab": {
     "base_uri": "https://localhost:8080/"
    },
    "id": "ILkXGrxZSQtD",
    "outputId": "55762ee3-e409-48e0-ecbd-1f473027ca08"
   },
   "outputs": [
    {
     "name": "stdout",
     "output_type": "stream",
     "text": [
      "Requirement already satisfied: torch in c:\\users\\lenovo\\appdata\\local\\programs\\python\\python312\\lib\\site-packages (2.5.1+cpu)\n",
      "Requirement already satisfied: torchvision in c:\\users\\lenovo\\appdata\\local\\programs\\python\\python312\\lib\\site-packages (0.20.1+cpu)\n",
      "Requirement already satisfied: torchaudio in c:\\users\\lenovo\\appdata\\local\\programs\\python\\python312\\lib\\site-packages (2.5.1+cpu)\n",
      "Requirement already satisfied: filelock in c:\\users\\lenovo\\appdata\\local\\programs\\python\\python312\\lib\\site-packages (from torch) (3.16.1)\n",
      "Requirement already satisfied: typing-extensions>=4.8.0 in c:\\users\\lenovo\\appdata\\local\\programs\\python\\python312\\lib\\site-packages (from torch) (4.12.2)\n",
      "Requirement already satisfied: networkx in c:\\users\\lenovo\\appdata\\local\\programs\\python\\python312\\lib\\site-packages (from torch) (3.4.2)\n",
      "Requirement already satisfied: jinja2 in c:\\users\\lenovo\\appdata\\local\\programs\\python\\python312\\lib\\site-packages (from torch) (3.1.4)\n",
      "Requirement already satisfied: fsspec in c:\\users\\lenovo\\appdata\\local\\programs\\python\\python312\\lib\\site-packages (from torch) (2024.10.0)\n",
      "Requirement already satisfied: setuptools in c:\\users\\lenovo\\appdata\\local\\programs\\python\\python312\\lib\\site-packages (from torch) (75.1.0)\n",
      "Requirement already satisfied: sympy==1.13.1 in c:\\users\\lenovo\\appdata\\local\\programs\\python\\python312\\lib\\site-packages (from torch) (1.13.1)\n",
      "Requirement already satisfied: mpmath<1.4,>=1.1.0 in c:\\users\\lenovo\\appdata\\local\\programs\\python\\python312\\lib\\site-packages (from sympy==1.13.1->torch) (1.3.0)\n",
      "Requirement already satisfied: numpy in c:\\users\\lenovo\\appdata\\local\\programs\\python\\python312\\lib\\site-packages (from torchvision) (1.26.4)\n",
      "Requirement already satisfied: pillow!=8.3.*,>=5.3.0 in c:\\users\\lenovo\\appdata\\local\\programs\\python\\python312\\lib\\site-packages (from torchvision) (9.5.0)\n",
      "Requirement already satisfied: MarkupSafe>=2.0 in c:\\users\\lenovo\\appdata\\local\\programs\\python\\python312\\lib\\site-packages (from jinja2->torch) (2.1.5)\n"
     ]
    }
   ],
   "source": [
    "!pip install torch torchvision torchaudio"
   ]
  },
  {
   "cell_type": "code",
   "execution_count": 2,
   "metadata": {
    "colab": {
     "base_uri": "https://localhost:8080/"
    },
    "id": "lYb8zEl6SQtK",
    "outputId": "66401da3-bdf1-41b6-9405-bf7d879944bd"
   },
   "outputs": [
    {
     "name": "stdout",
     "output_type": "stream",
     "text": [
      "Requirement already satisfied: transformers in c:\\users\\lenovo\\appdata\\local\\programs\\python\\python312\\lib\\site-packages (4.46.0)\n",
      "Requirement already satisfied: requests in c:\\users\\lenovo\\appdata\\local\\programs\\python\\python312\\lib\\site-packages (2.32.3)\n",
      "Requirement already satisfied: beautifulsoup4 in c:\\users\\lenovo\\appdata\\local\\programs\\python\\python312\\lib\\site-packages (4.12.3)\n",
      "Requirement already satisfied: pandas in c:\\users\\lenovo\\appdata\\local\\programs\\python\\python312\\lib\\site-packages (2.2.3)\n",
      "Requirement already satisfied: numpy in c:\\users\\lenovo\\appdata\\local\\programs\\python\\python312\\lib\\site-packages (1.26.4)\n",
      "Requirement already satisfied: filelock in c:\\users\\lenovo\\appdata\\local\\programs\\python\\python312\\lib\\site-packages (from transformers) (3.16.1)\n",
      "Requirement already satisfied: huggingface-hub<1.0,>=0.23.2 in c:\\users\\lenovo\\appdata\\local\\programs\\python\\python312\\lib\\site-packages (from transformers) (0.26.1)\n",
      "Requirement already satisfied: packaging>=20.0 in c:\\users\\lenovo\\appdata\\local\\programs\\python\\python312\\lib\\site-packages (from transformers) (24.1)\n",
      "Requirement already satisfied: pyyaml>=5.1 in c:\\users\\lenovo\\appdata\\local\\programs\\python\\python312\\lib\\site-packages (from transformers) (6.0.2)\n",
      "Requirement already satisfied: regex!=2019.12.17 in c:\\users\\lenovo\\appdata\\local\\programs\\python\\python312\\lib\\site-packages (from transformers) (2024.9.11)\n",
      "Requirement already satisfied: safetensors>=0.4.1 in c:\\users\\lenovo\\appdata\\local\\programs\\python\\python312\\lib\\site-packages (from transformers) (0.4.5)\n",
      "Requirement already satisfied: tokenizers<0.21,>=0.20 in c:\\users\\lenovo\\appdata\\local\\programs\\python\\python312\\lib\\site-packages (from transformers) (0.20.1)\n",
      "Requirement already satisfied: tqdm>=4.27 in c:\\users\\lenovo\\appdata\\local\\programs\\python\\python312\\lib\\site-packages (from transformers) (4.66.5)\n",
      "Requirement already satisfied: charset-normalizer<4,>=2 in c:\\users\\lenovo\\appdata\\local\\programs\\python\\python312\\lib\\site-packages (from requests) (3.3.2)\n",
      "Requirement already satisfied: idna<4,>=2.5 in c:\\users\\lenovo\\appdata\\local\\programs\\python\\python312\\lib\\site-packages (from requests) (3.7)\n",
      "Requirement already satisfied: urllib3<3,>=1.21.1 in c:\\users\\lenovo\\appdata\\local\\programs\\python\\python312\\lib\\site-packages (from requests) (2.2.3)\n",
      "Requirement already satisfied: certifi>=2017.4.17 in c:\\users\\lenovo\\appdata\\local\\programs\\python\\python312\\lib\\site-packages (from requests) (2024.8.30)\n",
      "Requirement already satisfied: soupsieve>1.2 in c:\\users\\lenovo\\appdata\\local\\programs\\python\\python312\\lib\\site-packages (from beautifulsoup4) (2.6)\n",
      "Requirement already satisfied: python-dateutil>=2.8.2 in c:\\users\\lenovo\\appdata\\local\\programs\\python\\python312\\lib\\site-packages (from pandas) (2.9.0.post0)\n",
      "Requirement already satisfied: pytz>=2020.1 in c:\\users\\lenovo\\appdata\\local\\programs\\python\\python312\\lib\\site-packages (from pandas) (2024.2)\n",
      "Requirement already satisfied: tzdata>=2022.7 in c:\\users\\lenovo\\appdata\\local\\programs\\python\\python312\\lib\\site-packages (from pandas) (2024.2)\n",
      "Requirement already satisfied: fsspec>=2023.5.0 in c:\\users\\lenovo\\appdata\\local\\programs\\python\\python312\\lib\\site-packages (from huggingface-hub<1.0,>=0.23.2->transformers) (2024.10.0)\n",
      "Requirement already satisfied: typing-extensions>=3.7.4.3 in c:\\users\\lenovo\\appdata\\local\\programs\\python\\python312\\lib\\site-packages (from huggingface-hub<1.0,>=0.23.2->transformers) (4.12.2)\n",
      "Requirement already satisfied: six>=1.5 in c:\\users\\lenovo\\appdata\\local\\programs\\python\\python312\\lib\\site-packages (from python-dateutil>=2.8.2->pandas) (1.16.0)\n",
      "Requirement already satisfied: colorama in c:\\users\\lenovo\\appdata\\local\\programs\\python\\python312\\lib\\site-packages (from tqdm>=4.27->transformers) (0.4.6)\n"
     ]
    }
   ],
   "source": [
    "!pip install transformers requests beautifulsoup4 pandas numpy"
   ]
  },
  {
   "cell_type": "code",
   "execution_count": 1,
   "metadata": {
    "id": "TKGxIJp2SQtN"
   },
   "outputs": [],
   "source": [
    "from transformers import AutoTokenizer, AutoModelForSequenceClassification\n",
    "import torch\n",
    "import requests\n",
    "from bs4 import BeautifulSoup\n",
    "import re\n",
    "import pandas as pd\n",
    "import numpy as np"
   ]
  },
  {
   "cell_type": "markdown",
   "metadata": {
    "id": "X7icwGc_SQtQ"
   },
   "source": [
    "## 2. Instantiate Model"
   ]
  },
  {
   "cell_type": "code",
   "execution_count": 2,
   "metadata": {
    "colab": {
     "base_uri": "https://localhost:8080/",
     "height": 177,
     "referenced_widgets": [
      "9faeecad51ae4505949f9e96beef3c05",
      "461c11ed1a43468ea79fe096e3413171",
      "593a1c5079684971bf49e0cea8225ca1",
      "175cbcfd8e974b808c8bfcd47eaefbe0",
      "a591437ae8bf4ccfacb68b4e3aa8e5a0",
      "df5313d8239e4b418e7cfb026cfa29f9",
      "a8e5722d787149e6a1a33dcab195f5c9",
      "d24319ea2e254945995464f59e0aebcd",
      "99f12fd127ae4069a03cb6b2d46c4fe7",
      "cb91268e512c41abb34f4c1ce86f53b2",
      "82b250c13bb24ba986e181c182220bbd",
      "1086e92fc1ff416fae3cd218a99254d1",
      "43d86577a21e424494bd6d2c1f188b9f",
      "a302b7e200b54b3caa23f8c9f321565f",
      "eedd9426ed324c13878b182671454d8a",
      "43cf216c44024bc8aac414978d1a6bb8",
      "3c5ba96e15ce4b168a85cf8b1f7d746d",
      "354dbfe121c64ed6b8fb997b90e2695f",
      "6c3ff0f268c9489cb6c5e0701d9a7e0e",
      "95d53e594d294a119ffb5cd72d7cb0ff",
      "f771d1b7af9c4384824ebde4663ccee3",
      "807aaf836f7e4a41b4f2c16336bb93ba",
      "447d1da0142941fd8ebe2fd4be098b85",
      "2a8452526b8846769edd3ffb8cff0f90",
      "587e8f6fc0b142af8bb3781b81406c41",
      "517aabc3ca954fb6918129c5969330f8",
      "e3aedb804e1647f4990c36e226a61f16",
      "64833fd4f8dc449285ed10110ae194fe",
      "e66dbbb7d21343d784627603d8c84f5c",
      "4f4d17ee71a0478abc11f541edb78b34",
      "9de73da66ffa452fb8a9e9be6b87ed52",
      "030bad8476b2443283fd41e44d0da83b",
      "2a3d9fdf7b96498e96f426c12527ab25",
      "53aa21c98b5b4e239135e487fba8e9ba",
      "b8b79278e77346a49fc376e1793aa7d9",
      "d5b9e9ee43a844529d8a31270836c886",
      "a94f8dd41e134cebbd0955c56c265bfe",
      "56d81e9c985343d78f70ffbe25a55810",
      "a1c1cc874e2448a8a6e07304082b11b6",
      "bc70c0b38f7f4495a6d12028468b94ee",
      "1c65b9de93554cde80e6d4d328899915",
      "50325cbcb7ae484cafd2c77654ad40cb",
      "6253e19827854a0092d69a81aeae3efe",
      "1a2e7ac59aa747c5abe150387bec783a",
      "d2920f632b094112a1861f5251abb6da",
      "718867b866f44ad0a2ed0349be17caa5",
      "4cc1fa3d23f04cec94319003f467c05a",
      "ea6f7336851d4f43830334870e46fe03",
      "f44c280599904df1b8ebb65c63c2e5a9",
      "16a833e96670449fa3f401a94ea37e0e",
      "d02b48d710214c5b8f3cbc52099a6892",
      "3e685a376d27471586cce0c2ddeb89ec",
      "691f7c23d49b40eeb956fc583b0bd429",
      "1711138d725c4b1aa438ee8345a94329",
      "512f3f15953449bdbae9307765023c25"
     ]
    },
    "id": "S5zlCbJ7SQtR",
    "outputId": "05e63ee6-dd46-4001-9fd9-e6b2405b2279"
   },
   "outputs": [
    {
     "data": {
      "application/vnd.jupyter.widget-view+json": {
       "model_id": "49d3ac65e8ff4a16b5e3b52b15ba43f3",
       "version_major": 2,
       "version_minor": 0
      },
      "text/plain": [
       "pytorch_model.bin:  23%|##3       | 157M/669M [00:00<?, ?B/s]"
      ]
     },
     "metadata": {},
     "output_type": "display_data"
    },
    {
     "name": "stderr",
     "output_type": "stream",
     "text": [
      "C:\\Users\\lenovo\\AppData\\Local\\Programs\\Python\\Python312\\Lib\\site-packages\\huggingface_hub\\file_download.py:139: UserWarning: `huggingface_hub` cache-system uses symlinks by default to efficiently store duplicated files but your machine does not support them in C:\\Users\\lenovo\\.cache\\huggingface\\hub\\models--nlptown--bert-base-multilingual-uncased-sentiment. Caching files will still work but in a degraded version that might require more space on your disk. This warning can be disabled by setting the `HF_HUB_DISABLE_SYMLINKS_WARNING` environment variable. For more details, see https://huggingface.co/docs/huggingface_hub/how-to-cache#limitations.\n",
      "To support symlinks on Windows, you either need to activate Developer Mode or to run Python as an administrator. In order to activate developer mode, see this article: https://docs.microsoft.com/en-us/windows/apps/get-started/enable-your-device-for-development\n",
      "  warnings.warn(message)\n"
     ]
    }
   ],
   "source": [
    "tokenizer = AutoTokenizer.from_pretrained('nlptown/bert-base-multilingual-uncased-sentiment')\n",
    "model = AutoModelForSequenceClassification.from_pretrained('nlptown/bert-base-multilingual-uncased-sentiment')"
   ]
  },
  {
   "cell_type": "markdown",
   "metadata": {
    "id": "dAl4r6RQSQtT"
   },
   "source": [
    "## 3. Encode and Calculate Sentiment"
   ]
  },
  {
   "cell_type": "code",
   "execution_count": 3,
   "metadata": {
    "id": "wPzWvaRKSQtV"
   },
   "outputs": [],
   "source": [
    "tokens = tokenizer.encode('I loved it, the pizza is very delicious', return_tensors = 'pt')"
   ]
  },
  {
   "cell_type": "code",
   "execution_count": 4,
   "metadata": {
    "colab": {
     "base_uri": "https://localhost:8080/"
    },
    "id": "Bcgt0iBKSQtY",
    "outputId": "f70acd1d-4acf-49d9-c7c2-bffafa93677e"
   },
   "outputs": [
    {
     "data": {
      "text/plain": [
       "tensor([[  101,   151, 46747, 10197,   117, 10103, 59371, 10127, 12495, 27254,\n",
       "         47838,   102]])"
      ]
     },
     "execution_count": 4,
     "metadata": {},
     "output_type": "execute_result"
    }
   ],
   "source": [
    "tokens"
   ]
  },
  {
   "cell_type": "code",
   "execution_count": 5,
   "metadata": {
    "colab": {
     "base_uri": "https://localhost:8080/",
     "height": 35
    },
    "id": "G4V28BKHSQtb",
    "outputId": "5d1a7ad5-c24d-4ae7-b5f3-5bfc03b15073"
   },
   "outputs": [
    {
     "data": {
      "text/plain": [
       "'[CLS] i loved it, the pizza is very delicious [SEP]'"
      ]
     },
     "execution_count": 5,
     "metadata": {},
     "output_type": "execute_result"
    }
   ],
   "source": [
    "# we don't need this step but we can also decode the string\n",
    "tokenizer.decode(tokens[0])"
   ]
  },
  {
   "cell_type": "code",
   "execution_count": 6,
   "metadata": {
    "colab": {
     "base_uri": "https://localhost:8080/"
    },
    "id": "f9p4hCe-SQtf",
    "outputId": "62daea91-fd66-4116-b01e-59871070ac8a"
   },
   "outputs": [
    {
     "data": {
      "text/plain": [
       "SequenceClassifierOutput(loss=None, logits=tensor([[-2.6552, -2.2700, -0.3486,  1.8020,  2.7059]],\n",
       "       grad_fn=<AddmmBackward0>), hidden_states=None, attentions=None)"
      ]
     },
     "execution_count": 6,
     "metadata": {},
     "output_type": "execute_result"
    }
   ],
   "source": [
    "result = model(tokens)\n",
    "result"
   ]
  },
  {
   "cell_type": "markdown",
   "metadata": {
    "id": "48ruTxWeSQth"
   },
   "source": [
    "The above output from the model is a one-hot encoded list of scores. The position with the highest score represents the sentiment rating."
   ]
  },
  {
   "cell_type": "code",
   "execution_count": 7,
   "metadata": {
    "colab": {
     "base_uri": "https://localhost:8080/"
    },
    "id": "mqJtVonLSQtj",
    "outputId": "fa9b67a8-7233-4205-f549-db050b21bbcf"
   },
   "outputs": [
    {
     "data": {
      "text/plain": [
       "tensor([[-2.6552, -2.2700, -0.3486,  1.8020,  2.7059]],\n",
       "       grad_fn=<AddmmBackward0>)"
      ]
     },
     "execution_count": 7,
     "metadata": {},
     "output_type": "execute_result"
    }
   ],
   "source": [
    "result.logits"
   ]
  },
  {
   "cell_type": "markdown",
   "metadata": {
    "id": "dWTU966mSQtl"
   },
   "source": [
    "torch.argmax will return the position of highest value from the tensor. As count starts from 0, I am adding +1 for better understanding"
   ]
  },
  {
   "cell_type": "code",
   "execution_count": 8,
   "metadata": {
    "colab": {
     "base_uri": "https://localhost:8080/"
    },
    "id": "Ng7H1QTzSQtm",
    "outputId": "1e9f12f3-d6ae-46ba-f702-b85d4cf51ea2"
   },
   "outputs": [
    {
     "data": {
      "text/plain": [
       "5"
      ]
     },
     "execution_count": 8,
     "metadata": {},
     "output_type": "execute_result"
    }
   ],
   "source": [
    "int(torch.argmax(result.logits))+1\n",
    "\n"
   ]
  },
  {
   "cell_type": "markdown",
   "metadata": {
    "id": "TfjKHjOtSQtp"
   },
   "source": [
    "Now we have the number between 1 to 5. Higher the number the better is the sentiment and vice versa."
   ]
  },
  {
   "cell_type": "code",
   "execution_count": 9,
   "metadata": {
    "colab": {
     "base_uri": "https://localhost:8080/"
    },
    "id": "I5c6tFksSQtr",
    "outputId": "953f7d14-d26b-4482-d8b9-8a3fc61aedf6"
   },
   "outputs": [
    {
     "data": {
      "text/plain": [
       "1"
      ]
     },
     "execution_count": 9,
     "metadata": {},
     "output_type": "execute_result"
    }
   ],
   "source": [
    "# lets try this on one more review\n",
    "tokens_a = tokenizer.encode('It was the worst thing i have ever had', return_tensors = 'pt')\n",
    "result_a = model(tokens_a)\n",
    "int(torch.argmax(result_a.logits))+1"
   ]
  },
  {
   "cell_type": "markdown",
   "metadata": {
    "id": "DTS9cy9iSQts"
   },
   "source": [
    "## 4. Import Dataset having reviews"
   ]
  },
  {
   "cell_type": "code",
   "execution_count": 10,
   "metadata": {
    "id": "9lBApRGPSiBU"
   },
   "outputs": [],
   "source": [
    "r = requests.get('https://www.yelp.com/biz/8milepi-detroit-style-pizza-san-francisco-3')\n",
    "soup = BeautifulSoup(r.text,'html.parser')\n",
    "regex = re.compile('.*comment.*')\n",
    "results = soup.find_all('p',{'class':regex})\n",
    "reviews = [result.text for result in results]"
   ]
  },
  {
   "cell_type": "code",
   "execution_count": 11,
   "metadata": {
    "colab": {
     "base_uri": "https://localhost:8080/"
    },
    "id": "MJG3GvvWXdGO",
    "outputId": "e2ac8583-4aa7-42fd-fd51-0e540ac45ab1"
   },
   "outputs": [
    {
     "data": {
      "text/plain": [
       "[<p class=\"comment__09f24__D0cxf y-css-1wfz87z\"><span class=\"raw__09f24__T4Ezm\" lang=\"en\">lol never coming here again they gave me food poisioning and that salad is unholy. also dont talk to jessica. i came here a couple years ago, on 4/5/2031. hope it changes soon</span></p>,\n",
       " <p class=\"comment__09f24__D0cxf y-css-1wfz87z\"><span class=\"raw__09f24__T4Ezm\" lang=\"en\">In the past year and a half, I've fallen in love with Detroit-style pizza and been on the hunt to try every place SF, which is what lead me to 8 MilePi! <br/><br/>8 MilePI offers both Detroit-style and Sicilian pizza, but of course I had to go with the Detroit. I love bbq chicken pizzas, so that one immediately got my attention and placed my order for that. The bbq sauce was on the bitter side, but just wish it was a little sweeter and tangy because the bitterness of the sauce overpowered the rest of ingredients and was the prominent flavor. The crust fell short of expectations as well. It wasn't the crispy, cheesy edges that i've had with previous Detroit-style pizzas. The crust as a whole had more of the sicilian texture rather than the Detroit.  <br/><br/>The pizza itself is huge! The regular size was $28, and I was full off 2 1/2 slices. One regular sized pizza would be good for 2-4 people. <br/><br/>The packaging can use some improvement. I ordered a regular size za' but it came delivered in their larger sized box. During the delivery, the pizza slid from side to side, smushing the pizza, which wasn't the end of the world, but seems like a simple fix with the right sized box. I didn't have access to my car at the time, which is why I opted for delivery. Delivery is something I don't typically do, but since it was less than 10 minutes from where I was staying, I figured the transit time would be chill. Pizza was still hot, so that's a win. <br/><br/>Overall, if you are looking to compare Detroit style pizzas in the area, I'd say it's still worth a try. Everyone's palate is different, so you'll never know if you like it until you try it for yourself! Next time around I think i'll stick to a more classic style and see how that goes, plus their jalapeno popper breadsticks looks delicious!</span></p>,\n",
       " <p class=\"comment__09f24__D0cxf y-css-1wfz87z\"><span class=\"raw__09f24__T4Ezm\" lang=\"en\">3.5 stars<br/>Ordered via door dash and some of the issues we had definitely due to delivery. Though we've ordered from square pie guys and pizza squared through delivery and didn't have the same issues. <br/><br/>We ordered a Detroit style pepperoni pizza, salad, cheesecake, and two canned sodas. Best thing about the pizza was that it was bigger than competitors but arrived COLD and with the box smashed in. After peeling the box off the cheese, we reheated a few slices in the oven. The pizza sort of reminded me of \"grandma\" slices in NYC, not Detroit style pizza. We actually wondered if they made a Sicilian instead of a Detroit? It was missing that great crispy pan edge. <br/><br/>Salad (called the Wolverine) was tasty and came with a great spicy dressing. Would order it again for sure!<br/><br/>Sadly, the pizza missed the mark for us so we couldn't recommend 8mile for Detroit Style pizza-other places we've tried have been better.</span></p>,\n",
       " <p class=\"comment__09f24__D0cxf y-css-1wfz87z\"><span class=\"raw__09f24__T4Ezm\" lang=\"en\">8MilePi in Detroit serves up a slice of perfection with its Detroit Style Pizza. From the first bite, the crispy crust, gooey cheese, and flavorful sauce captivate the senses. Using quality ingredients and attention to detail, each slice is a culinary masterpiece. With friendly service and a cozy atmosphere, 8MilePi is a must-visit for pizza lovers craving an unforgettable experience in Detroit.</span></p>,\n",
       " <p class=\"comment__09f24__D0cxf y-css-1wfz87z\"><span class=\"raw__09f24__T4Ezm\" lang=\"en\">The ultimate Detroit style pizzas with that decadent, super thick and chewy pizza crust! It's really hard to go wrong with this, particularly if you like thick crust pizzas  Have to mention that the portions are huuuge and 3 of these pizzas can feed a part of 10-12 comfortably as it can be quite heavy, so mostly each person ends up having 2 pcs on an average. Hence, for a huge party it's totally worth it!<br/><br/>Favs: Fire House Special Pizza with honey drizzle was such an incredible combo (I got vegan cheese for this one and I loved it..it's a very generous topping unlike some places who just pour a little), Green Top Pizza with a very flavorful pesto sauce, the Jalapeño popper breadsticks that comes with a generous portion of Marinara sauce (around the size of a big bowl), the BBQ wings were really good too, and 2/3rds of the crowd liked the New York Style Cheesecake. All in all, it was a really successful meal with many happy stomachs!</span></p>,\n",
       " <p class=\"comment__09f24__ZU8MN y-css-1wfz87z\"><span class=\"raw__09f24__T4Ezm\">Hi Sonam, thank you for sharing this great feedback with us!</span> </p>,\n",
       " <p class=\"comment__09f24__D0cxf y-css-1wfz87z\"><span class=\"raw__09f24__T4Ezm\" lang=\"en\">I got firehouse special and Motown Meat lover- both Detroit style! They provided ranch and honey which I ended up drizzling on my pizza and OMG that was a game changer hahah. From the sweet, salty and spicy! I was getting all the flavors. I will def be coming back to try their other pizzas!</span></p>,\n",
       " <p class=\"comment__09f24__ZU8MN y-css-1wfz87z\"><span class=\"raw__09f24__T4Ezm\">Hi Alicia, great to hear that you enjoyed our Detroit style pies! We appreciate the kind feedback.</span> </p>,\n",
       " <p class=\"comment__09f24__D0cxf y-css-1wfz87z\"><span class=\"raw__09f24__T4Ezm\" lang=\"en\">If you love thick pizza, Detroit style pizza from 8MilePi is the way to go! So cheesy and filled with toppings. Smog pizza is my fav. Super convenient to pick up from this cloud kitchen location. They also have yummy wings and a packed chopped salad if you want other options. Their pizzas are huge and are so filling for lunch or dinner.</span></p>,\n",
       " <p class=\"comment__09f24__ZU8MN y-css-1wfz87z\"><span class=\"raw__09f24__T4Ezm\">Hi Farrah, great to hear that you enjoy our SMOG pizza! We appreciate the kind review.</span> </p>,\n",
       " <p class=\"comment__09f24__D0cxf y-css-1wfz87z\"><span class=\"raw__09f24__T4Ezm\" lang=\"en\">First time trying Detroit-style pizza and I'm def a fan of it! These pizzas are thick with a chewy and slightly crisp crust. I was full from just eating two slices! I got the Smog and Fun Guy Forno pizza, both were delicious!<br/><br/>I also tried the cheesy bread sticks and bbq wings. Big fan of the cheesy bread sticks, especially the crispy cheese edges.</span></p>,\n",
       " <p class=\"comment__09f24__ZU8MN y-css-1wfz87z\"><span class=\"raw__09f24__T4Ezm\">Hi Kristine, so great to hear that you enjoyed our food! We appreciate the kind review.</span> </p>,\n",
       " <p class=\"comment__09f24__D0cxf y-css-1wfz87z\"><span class=\"raw__09f24__T4Ezm\" lang=\"en\">This pizza was straight up nasty.<br/><br/>I ordered a Detroit style Motown Meat Lover.  I paid for extra pepperoni on top.<br/><br/>I eat a lot of Detroit style from a different store in the area.  This one said they had brick cheese.  I got excited, and decided to give them a chance.<br/><br/>Look at that pizza.  Most of the slices have one piece of pepperoni, on a meat lovers' which paid for extra pepperoni.  One of them has zero.<br/><br/>No, it's not under the cheese.  This also has no brick cheese.  This is that greasy, fall apart bulk mozzarella that comes in a pre-shredded bag from the food service grocery store.  It's not even browned.  It's just a big gooey mess.<br/><br/>Two of these slices had no sauce at all.  The toppings barely exist.  When it arrived, the pieces had been pulled apart.<br/><br/>The cheese doesn't go up to the edge.  That burnt cheese at the edge that defines a detroit style pie is completely missing.<br/><br/>The dough is powdered dough from a bag.  Your teeth squeak when you bite into it.  There's twice as much as there should be.  It's a loaf of bad bread with some cheese on it, a couple of toppings here and there, and maybe a dab of sauce.<br/><br/>It's undercooked.  The dough is still moist in spots.  The cardboard stuck to the pizza and tore up.  Not to the cheese - to the *crust*.  I've never seen that before.<br/><br/>My postmate texted me when they showed up \"it's not even made yet.\"  The pizza shop didn't finish making my pizza until ten minutes after it was supposed to be delivered.<br/><br/>There's a big vertical gash on one side.  I don't even know why.<br/><br/>The pan is supposed to be oiled in a Detroit Style, like with sfincione, so that it fries.  That was not done.<br/><br/>This is just some jerk who watched a YouTube and decided to start a shop.  They have no idea what Detroit Style pizza is, and even as inauthentic, this just isn't good pizza.  I didn't even finish it.  I'm a fat guy, and I didn't finish a pizza.<br/><br/>This is not a thirty one dollar pizza.<br/><br/>I would have been angry paying ten dollars for this loaf of dough.<br/><br/>Strongly recommended against.  <br/><br/>This was gross.<br/><br/>Look at that.  That's a meat lover's with extra pepperoni.  Count the slices.  There were none under the cheese.</span></p>,\n",
       " <p class=\"comment__09f24__D0cxf y-css-1wfz87z\"><span class=\"raw__09f24__T4Ezm\" lang=\"en\">Not sure what's up with all these haters. I grew up in the midwest and I can assure you this is authentic. I ordered an 8 mile pie with jalapenos, pineapple and pepperoni for delivery (my classic combo).<br/><br/>Albeit it was cheesier than I expected, the crust was clearly pan baked; and had that almost burnt but not burn caramelization effect going on that I not only crunched, chewed, and ate, I sucked it! Golden and buttery, and covered in cheese.<br/><br/>Clearly this is something hand made and that has to be appreciated. It is quite filling; so I saved most of my pie for the next day. 30 seconds in the microwave and it's amazing again.<br/><br/>1 pie will feed your friends. Catch one fo the BOGO deals and you could be enjoying this pie for a few days :-). Recommended!</span></p>]"
      ]
     },
     "execution_count": 11,
     "metadata": {},
     "output_type": "execute_result"
    }
   ],
   "source": [
    "results"
   ]
  },
  {
   "cell_type": "code",
   "execution_count": 12,
   "metadata": {
    "colab": {
     "base_uri": "https://localhost:8080/",
     "height": 53
    },
    "id": "gZTh4UcVXc-t",
    "outputId": "f85d8471-6600-4a90-ef9b-00bc82c0cf7b"
   },
   "outputs": [
    {
     "data": {
      "text/plain": [
       "'lol never coming here again they gave me food poisioning and that salad is unholy. also dont talk to jessica. i came here a couple years ago, on 4/5/2031. hope it changes soon'"
      ]
     },
     "execution_count": 12,
     "metadata": {},
     "output_type": "execute_result"
    }
   ],
   "source": [
    "results[0].text"
   ]
  },
  {
   "cell_type": "code",
   "execution_count": 13,
   "metadata": {
    "colab": {
     "base_uri": "https://localhost:8080/"
    },
    "id": "zColGmyDXcdq",
    "outputId": "cd459f8d-262d-42f7-a8f2-8fe19a22a5a2"
   },
   "outputs": [
    {
     "data": {
      "text/plain": [
       "['lol never coming here again they gave me food poisioning and that salad is unholy. also dont talk to jessica. i came here a couple years ago, on 4/5/2031. hope it changes soon',\n",
       " \"In the past year and a half, I've fallen in love with Detroit-style pizza and been on the hunt to try every place SF, which is what lead me to 8 MilePi! 8 MilePI offers both Detroit-style and Sicilian pizza, but of course I had to go with the Detroit. I love bbq chicken pizzas, so that one immediately got my attention and placed my order for that. The bbq sauce was on the bitter side, but just wish it was a little sweeter and tangy because the bitterness of the sauce overpowered the rest of ingredients and was the prominent flavor. The crust fell short of expectations as well. It wasn't the crispy, cheesy edges that i've had with previous Detroit-style pizzas. The crust as a whole had more of the sicilian texture rather than the Detroit.  The pizza itself is huge! The regular size was $28, and I was full off 2 1/2 slices. One regular sized pizza would be good for 2-4 people. The packaging can use some improvement. I ordered a regular size za' but it came delivered in their larger sized box. During the delivery, the pizza slid from side to side, smushing the pizza, which wasn't the end of the world, but seems like a simple fix with the right sized box. I didn't have access to my car at the time, which is why I opted for delivery. Delivery is something I don't typically do, but since it was less than 10 minutes from where I was staying, I figured the transit time would be chill. Pizza was still hot, so that's a win. Overall, if you are looking to compare Detroit style pizzas in the area, I'd say it's still worth a try. Everyone's palate is different, so you'll never know if you like it until you try it for yourself! Next time around I think i'll stick to a more classic style and see how that goes, plus their jalapeno popper breadsticks looks delicious!\",\n",
       " '3.5 starsOrdered via door dash and some of the issues we had definitely due to delivery. Though we\\'ve ordered from square pie guys and pizza squared through delivery and didn\\'t have the same issues. We ordered a Detroit style pepperoni pizza, salad, cheesecake, and two canned sodas. Best thing about the pizza was that it was bigger than competitors but arrived COLD and with the box smashed in. After peeling the box off the cheese, we reheated a few slices in the oven. The pizza sort of reminded me of \"grandma\" slices in NYC, not Detroit style pizza. We actually wondered if they made a Sicilian instead of a Detroit? It was missing that great crispy pan edge. Salad (called the Wolverine) was tasty and came with a great spicy dressing. Would order it again for sure!Sadly, the pizza missed the mark for us so we couldn\\'t recommend 8mile for Detroit Style pizza-other places we\\'ve tried have been better.',\n",
       " '8MilePi in Detroit serves up a slice of perfection with its Detroit Style Pizza. From the first bite, the crispy crust, gooey cheese, and flavorful sauce captivate the senses. Using quality ingredients and attention to detail, each slice is a culinary masterpiece. With friendly service and a cozy atmosphere, 8MilePi is a must-visit for pizza lovers craving an unforgettable experience in Detroit.',\n",
       " \"The ultimate Detroit style pizzas with that decadent, super thick and chewy pizza crust! It's really hard to go wrong with this, particularly if you like thick crust pizzas  Have to mention that the portions are huuuge and 3 of these pizzas can feed a part of 10-12 comfortably as it can be quite heavy, so mostly each person ends up having 2 pcs on an average. Hence, for a huge party it's totally worth it!Favs: Fire House Special Pizza with honey drizzle was such an incredible combo (I got vegan cheese for this one and I loved it..it's a very generous topping unlike some places who just pour a little), Green Top Pizza with a very flavorful pesto sauce, the Jalapeño popper breadsticks that comes with a generous portion of Marinara sauce (around the size of a big bowl), the BBQ wings were really good too, and 2/3rds of the crowd liked the New York Style Cheesecake. All in all, it was a really successful meal with many happy stomachs!\",\n",
       " 'Hi Sonam, thank you for sharing this great feedback with us! ',\n",
       " 'I got firehouse special and Motown Meat lover- both Detroit style! They provided ranch and honey which I ended up drizzling on my pizza and OMG that was a game changer hahah. From the sweet, salty and spicy! I was getting all the flavors. I will def be coming back to try their other pizzas!',\n",
       " 'Hi Alicia, great to hear that you enjoyed our Detroit style pies! We appreciate the kind feedback. ',\n",
       " 'If you love thick pizza, Detroit style pizza from 8MilePi is the way to go! So cheesy and filled with toppings. Smog pizza is my fav. Super convenient to pick up from this cloud kitchen location. They also have yummy wings and a packed chopped salad if you want other options. Their pizzas are huge and are so filling for lunch or dinner.',\n",
       " 'Hi Farrah, great to hear that you enjoy our SMOG pizza! We appreciate the kind review. ',\n",
       " \"First time trying Detroit-style pizza and I'm def a fan of it! These pizzas are thick with a chewy and slightly crisp crust. I was full from just eating two slices! I got the Smog and Fun Guy Forno pizza, both were delicious!I also tried the cheesy bread sticks and bbq wings. Big fan of the cheesy bread sticks, especially the crispy cheese edges.\",\n",
       " 'Hi Kristine, so great to hear that you enjoyed our food! We appreciate the kind review. ',\n",
       " 'This pizza was straight up nasty.I ordered a Detroit style Motown Meat Lover.  I paid for extra pepperoni on top.I eat a lot of Detroit style from a different store in the area.  This one said they had brick cheese.  I got excited, and decided to give them a chance.Look at that pizza.  Most of the slices have one piece of pepperoni, on a meat lovers\\' which paid for extra pepperoni.  One of them has zero.No, it\\'s not under the cheese.  This also has no brick cheese.  This is that greasy, fall apart bulk mozzarella that comes in a pre-shredded bag from the food service grocery store.  It\\'s not even browned.  It\\'s just a big gooey mess.Two of these slices had no sauce at all.  The toppings barely exist.  When it arrived, the pieces had been pulled apart.The cheese doesn\\'t go up to the edge.  That burnt cheese at the edge that defines a detroit style pie is completely missing.The dough is powdered dough from a bag.  Your teeth squeak when you bite into it.  There\\'s twice as much as there should be.  It\\'s a loaf of bad bread with some cheese on it, a couple of toppings here and there, and maybe a dab of sauce.It\\'s undercooked.  The dough is still moist in spots.  The cardboard stuck to the pizza and tore up.  Not to the cheese - to the *crust*.  I\\'ve never seen that before.My postmate texted me when they showed up \"it\\'s not even made yet.\"  The pizza shop didn\\'t finish making my pizza until ten minutes after it was supposed to be delivered.There\\'s a big vertical gash on one side.  I don\\'t even know why.The pan is supposed to be oiled in a Detroit Style, like with sfincione, so that it fries.  That was not done.This is just some jerk who watched a YouTube and decided to start a shop.  They have no idea what Detroit Style pizza is, and even as inauthentic, this just isn\\'t good pizza.  I didn\\'t even finish it.  I\\'m a fat guy, and I didn\\'t finish a pizza.This is not a thirty one dollar pizza.I would have been angry paying ten dollars for this loaf of dough.Strongly recommended against.  This was gross.Look at that.  That\\'s a meat lover\\'s with extra pepperoni.  Count the slices.  There were none under the cheese.',\n",
       " \"Not sure what's up with all these haters. I grew up in the midwest and I can assure you this is authentic. I ordered an 8 mile pie with jalapenos, pineapple and pepperoni for delivery (my classic combo).Albeit it was cheesier than I expected, the crust was clearly pan baked; and had that almost burnt but not burn caramelization effect going on that I not only crunched, chewed, and ate, I sucked it! Golden and buttery, and covered in cheese.Clearly this is something hand made and that has to be appreciated. It is quite filling; so I saved most of my pie for the next day. 30 seconds in the microwave and it's amazing again.1 pie will feed your friends. Catch one fo the BOGO deals and you could be enjoying this pie for a few days :-). Recommended!\"]"
      ]
     },
     "execution_count": 13,
     "metadata": {},
     "output_type": "execute_result"
    }
   ],
   "source": [
    "reviews"
   ]
  },
  {
   "cell_type": "markdown",
   "metadata": {
    "id": "YK1B2aBdSQt-"
   },
   "source": [
    "## 5. Load Reviews into Dataframe and score"
   ]
  },
  {
   "cell_type": "code",
   "execution_count": 14,
   "metadata": {
    "id": "96L0P-1xgK52"
   },
   "outputs": [],
   "source": [
    "df = pd.DataFrame(np.array(reviews),columns = ['review'])"
   ]
  },
  {
   "cell_type": "code",
   "execution_count": 15,
   "metadata": {
    "colab": {
     "base_uri": "https://localhost:8080/",
     "height": 53
    },
    "id": "wNeg0N-Cgdtb",
    "outputId": "fc4d3527-ec2d-4225-ba22-aff512b3b671"
   },
   "outputs": [
    {
     "data": {
      "text/plain": [
       "'lol never coming here again they gave me food poisioning and that salad is unholy. also dont talk to jessica. i came here a couple years ago, on 4/5/2031. hope it changes soon'"
      ]
     },
     "execution_count": 15,
     "metadata": {},
     "output_type": "execute_result"
    }
   ],
   "source": [
    "df['review'].iloc[0]"
   ]
  },
  {
   "cell_type": "code",
   "execution_count": 16,
   "metadata": {
    "id": "HF-stXvOgdj9"
   },
   "outputs": [],
   "source": [
    "# creating function for the steps we have carried out earlier\n",
    "def sentiment_score(review):\n",
    "  tokens = tokenizer.encode(review, return_tensors = 'pt')\n",
    "  result = model(tokens)\n",
    "  return int(torch.argmax(result.logits))+1\n"
   ]
  },
  {
   "cell_type": "markdown",
   "metadata": {
    "id": "icWAoYnWhoQM"
   },
   "source": [
    "Above we have created a function that encapsulates the sentiment pipeline which will make it easier to process multiple strings. We will use it for each review in dataframe."
   ]
  },
  {
   "cell_type": "code",
   "execution_count": 17,
   "metadata": {
    "colab": {
     "base_uri": "https://localhost:8080/"
    },
    "id": "bK_d-g94gdZg",
    "outputId": "c9b111d6-46f7-4515-a708-0e6ac9d20892"
   },
   "outputs": [
    {
     "data": {
      "text/plain": [
       "1"
      ]
     },
     "execution_count": 17,
     "metadata": {},
     "output_type": "execute_result"
    }
   ],
   "source": [
    "sentiment_score(df['review'].iloc[0])"
   ]
  },
  {
   "cell_type": "code",
   "execution_count": 18,
   "metadata": {
    "id": "6598JQHNgdP4"
   },
   "outputs": [],
   "source": [
    "df['sentiment'] = df['review'].apply(lambda x: sentiment_score(x[:512]))"
   ]
  },
  {
   "cell_type": "code",
   "execution_count": 19,
   "metadata": {
    "colab": {
     "base_uri": "https://localhost:8080/",
     "height": 582
    },
    "id": "bsedkiaBgdFx",
    "outputId": "af5cb41e-6439-4dbc-aff5-928c1f3991ad"
   },
   "outputs": [
    {
     "data": {
      "text/html": [
       "<div>\n",
       "<style scoped>\n",
       "    .dataframe tbody tr th:only-of-type {\n",
       "        vertical-align: middle;\n",
       "    }\n",
       "\n",
       "    .dataframe tbody tr th {\n",
       "        vertical-align: top;\n",
       "    }\n",
       "\n",
       "    .dataframe thead th {\n",
       "        text-align: right;\n",
       "    }\n",
       "</style>\n",
       "<table border=\"1\" class=\"dataframe\">\n",
       "  <thead>\n",
       "    <tr style=\"text-align: right;\">\n",
       "      <th></th>\n",
       "      <th>review</th>\n",
       "      <th>sentiment</th>\n",
       "    </tr>\n",
       "  </thead>\n",
       "  <tbody>\n",
       "    <tr>\n",
       "      <th>0</th>\n",
       "      <td>lol never coming here again they gave me food ...</td>\n",
       "      <td>1</td>\n",
       "    </tr>\n",
       "    <tr>\n",
       "      <th>1</th>\n",
       "      <td>In the past year and a half, I've fallen in lo...</td>\n",
       "      <td>4</td>\n",
       "    </tr>\n",
       "    <tr>\n",
       "      <th>2</th>\n",
       "      <td>3.5 starsOrdered via door dash and some of the...</td>\n",
       "      <td>3</td>\n",
       "    </tr>\n",
       "    <tr>\n",
       "      <th>3</th>\n",
       "      <td>8MilePi in Detroit serves up a slice of perfec...</td>\n",
       "      <td>5</td>\n",
       "    </tr>\n",
       "    <tr>\n",
       "      <th>4</th>\n",
       "      <td>The ultimate Detroit style pizzas with that de...</td>\n",
       "      <td>5</td>\n",
       "    </tr>\n",
       "    <tr>\n",
       "      <th>5</th>\n",
       "      <td>Hi Sonam, thank you for sharing this great fee...</td>\n",
       "      <td>5</td>\n",
       "    </tr>\n",
       "    <tr>\n",
       "      <th>6</th>\n",
       "      <td>I got firehouse special and Motown Meat lover-...</td>\n",
       "      <td>5</td>\n",
       "    </tr>\n",
       "    <tr>\n",
       "      <th>7</th>\n",
       "      <td>Hi Alicia, great to hear that you enjoyed our ...</td>\n",
       "      <td>4</td>\n",
       "    </tr>\n",
       "    <tr>\n",
       "      <th>8</th>\n",
       "      <td>If you love thick pizza, Detroit style pizza f...</td>\n",
       "      <td>5</td>\n",
       "    </tr>\n",
       "    <tr>\n",
       "      <th>9</th>\n",
       "      <td>Hi Farrah, great to hear that you enjoy our SM...</td>\n",
       "      <td>4</td>\n",
       "    </tr>\n",
       "    <tr>\n",
       "      <th>10</th>\n",
       "      <td>First time trying Detroit-style pizza and I'm ...</td>\n",
       "      <td>5</td>\n",
       "    </tr>\n",
       "    <tr>\n",
       "      <th>11</th>\n",
       "      <td>Hi Kristine, so great to hear that you enjoyed...</td>\n",
       "      <td>5</td>\n",
       "    </tr>\n",
       "    <tr>\n",
       "      <th>12</th>\n",
       "      <td>This pizza was straight up nasty.I ordered a D...</td>\n",
       "      <td>2</td>\n",
       "    </tr>\n",
       "    <tr>\n",
       "      <th>13</th>\n",
       "      <td>Not sure what's up with all these haters. I gr...</td>\n",
       "      <td>5</td>\n",
       "    </tr>\n",
       "  </tbody>\n",
       "</table>\n",
       "</div>"
      ],
      "text/plain": [
       "                                               review  sentiment\n",
       "0   lol never coming here again they gave me food ...          1\n",
       "1   In the past year and a half, I've fallen in lo...          4\n",
       "2   3.5 starsOrdered via door dash and some of the...          3\n",
       "3   8MilePi in Detroit serves up a slice of perfec...          5\n",
       "4   The ultimate Detroit style pizzas with that de...          5\n",
       "5   Hi Sonam, thank you for sharing this great fee...          5\n",
       "6   I got firehouse special and Motown Meat lover-...          5\n",
       "7   Hi Alicia, great to hear that you enjoyed our ...          4\n",
       "8   If you love thick pizza, Detroit style pizza f...          5\n",
       "9   Hi Farrah, great to hear that you enjoy our SM...          4\n",
       "10  First time trying Detroit-style pizza and I'm ...          5\n",
       "11  Hi Kristine, so great to hear that you enjoyed...          5\n",
       "12  This pizza was straight up nasty.I ordered a D...          2\n",
       "13  Not sure what's up with all these haters. I gr...          5"
      ]
     },
     "execution_count": 19,
     "metadata": {},
     "output_type": "execute_result"
    }
   ],
   "source": [
    "df"
   ]
  },
  {
   "cell_type": "markdown",
   "metadata": {
    "id": "9PTN31bsjx4h"
   },
   "source": [
    "We can run the same script for other restaurants or businesses just by copying the link from Yelp website and paste it into the 'r' variable in importing dataset section.   \n",
    "  \n",
    "Caution:- If the website structure changes in future this can throw an error."
   ]
  }
 ],
 "metadata": {
  "colab": {
   "provenance": []
  },
  "kernelspec": {
   "display_name": "Python 3 (ipykernel)",
   "language": "python",
   "name": "python3"
  },
  "language_info": {
   "codemirror_mode": {
    "name": "ipython",
    "version": 3
   },
   "file_extension": ".py",
   "mimetype": "text/x-python",
   "name": "python",
   "nbconvert_exporter": "python",
   "pygments_lexer": "ipython3",
   "version": "3.12.5"
  },
  "widgets": {
   "application/vnd.jupyter.widget-state+json": {
    "030bad8476b2443283fd41e44d0da83b": {
     "model_module": "@jupyter-widgets/base",
     "model_module_version": "1.2.0",
     "model_name": "LayoutModel",
     "state": {
      "_model_module": "@jupyter-widgets/base",
      "_model_module_version": "1.2.0",
      "_model_name": "LayoutModel",
      "_view_count": null,
      "_view_module": "@jupyter-widgets/base",
      "_view_module_version": "1.2.0",
      "_view_name": "LayoutView",
      "align_content": null,
      "align_items": null,
      "align_self": null,
      "border": null,
      "bottom": null,
      "display": null,
      "flex": null,
      "flex_flow": null,
      "grid_area": null,
      "grid_auto_columns": null,
      "grid_auto_flow": null,
      "grid_auto_rows": null,
      "grid_column": null,
      "grid_gap": null,
      "grid_row": null,
      "grid_template_areas": null,
      "grid_template_columns": null,
      "grid_template_rows": null,
      "height": null,
      "justify_content": null,
      "justify_items": null,
      "left": null,
      "margin": null,
      "max_height": null,
      "max_width": null,
      "min_height": null,
      "min_width": null,
      "object_fit": null,
      "object_position": null,
      "order": null,
      "overflow": null,
      "overflow_x": null,
      "overflow_y": null,
      "padding": null,
      "right": null,
      "top": null,
      "visibility": null,
      "width": null
     }
    },
    "1086e92fc1ff416fae3cd218a99254d1": {
     "model_module": "@jupyter-widgets/controls",
     "model_module_version": "1.5.0",
     "model_name": "HBoxModel",
     "state": {
      "_dom_classes": [],
      "_model_module": "@jupyter-widgets/controls",
      "_model_module_version": "1.5.0",
      "_model_name": "HBoxModel",
      "_view_count": null,
      "_view_module": "@jupyter-widgets/controls",
      "_view_module_version": "1.5.0",
      "_view_name": "HBoxView",
      "box_style": "",
      "children": [
       "IPY_MODEL_43d86577a21e424494bd6d2c1f188b9f",
       "IPY_MODEL_a302b7e200b54b3caa23f8c9f321565f",
       "IPY_MODEL_eedd9426ed324c13878b182671454d8a"
      ],
      "layout": "IPY_MODEL_43cf216c44024bc8aac414978d1a6bb8"
     }
    },
    "16a833e96670449fa3f401a94ea37e0e": {
     "model_module": "@jupyter-widgets/base",
     "model_module_version": "1.2.0",
     "model_name": "LayoutModel",
     "state": {
      "_model_module": "@jupyter-widgets/base",
      "_model_module_version": "1.2.0",
      "_model_name": "LayoutModel",
      "_view_count": null,
      "_view_module": "@jupyter-widgets/base",
      "_view_module_version": "1.2.0",
      "_view_name": "LayoutView",
      "align_content": null,
      "align_items": null,
      "align_self": null,
      "border": null,
      "bottom": null,
      "display": null,
      "flex": null,
      "flex_flow": null,
      "grid_area": null,
      "grid_auto_columns": null,
      "grid_auto_flow": null,
      "grid_auto_rows": null,
      "grid_column": null,
      "grid_gap": null,
      "grid_row": null,
      "grid_template_areas": null,
      "grid_template_columns": null,
      "grid_template_rows": null,
      "height": null,
      "justify_content": null,
      "justify_items": null,
      "left": null,
      "margin": null,
      "max_height": null,
      "max_width": null,
      "min_height": null,
      "min_width": null,
      "object_fit": null,
      "object_position": null,
      "order": null,
      "overflow": null,
      "overflow_x": null,
      "overflow_y": null,
      "padding": null,
      "right": null,
      "top": null,
      "visibility": null,
      "width": null
     }
    },
    "1711138d725c4b1aa438ee8345a94329": {
     "model_module": "@jupyter-widgets/base",
     "model_module_version": "1.2.0",
     "model_name": "LayoutModel",
     "state": {
      "_model_module": "@jupyter-widgets/base",
      "_model_module_version": "1.2.0",
      "_model_name": "LayoutModel",
      "_view_count": null,
      "_view_module": "@jupyter-widgets/base",
      "_view_module_version": "1.2.0",
      "_view_name": "LayoutView",
      "align_content": null,
      "align_items": null,
      "align_self": null,
      "border": null,
      "bottom": null,
      "display": null,
      "flex": null,
      "flex_flow": null,
      "grid_area": null,
      "grid_auto_columns": null,
      "grid_auto_flow": null,
      "grid_auto_rows": null,
      "grid_column": null,
      "grid_gap": null,
      "grid_row": null,
      "grid_template_areas": null,
      "grid_template_columns": null,
      "grid_template_rows": null,
      "height": null,
      "justify_content": null,
      "justify_items": null,
      "left": null,
      "margin": null,
      "max_height": null,
      "max_width": null,
      "min_height": null,
      "min_width": null,
      "object_fit": null,
      "object_position": null,
      "order": null,
      "overflow": null,
      "overflow_x": null,
      "overflow_y": null,
      "padding": null,
      "right": null,
      "top": null,
      "visibility": null,
      "width": null
     }
    },
    "175cbcfd8e974b808c8bfcd47eaefbe0": {
     "model_module": "@jupyter-widgets/controls",
     "model_module_version": "1.5.0",
     "model_name": "HTMLModel",
     "state": {
      "_dom_classes": [],
      "_model_module": "@jupyter-widgets/controls",
      "_model_module_version": "1.5.0",
      "_model_name": "HTMLModel",
      "_view_count": null,
      "_view_module": "@jupyter-widgets/controls",
      "_view_module_version": "1.5.0",
      "_view_name": "HTMLView",
      "description": "",
      "description_tooltip": null,
      "layout": "IPY_MODEL_cb91268e512c41abb34f4c1ce86f53b2",
      "placeholder": "​",
      "style": "IPY_MODEL_82b250c13bb24ba986e181c182220bbd",
      "value": " 39.0/39.0 [00:00&lt;00:00, 1.25kB/s]"
     }
    },
    "1a2e7ac59aa747c5abe150387bec783a": {
     "model_module": "@jupyter-widgets/controls",
     "model_module_version": "1.5.0",
     "model_name": "DescriptionStyleModel",
     "state": {
      "_model_module": "@jupyter-widgets/controls",
      "_model_module_version": "1.5.0",
      "_model_name": "DescriptionStyleModel",
      "_view_count": null,
      "_view_module": "@jupyter-widgets/base",
      "_view_module_version": "1.2.0",
      "_view_name": "StyleView",
      "description_width": ""
     }
    },
    "1c65b9de93554cde80e6d4d328899915": {
     "model_module": "@jupyter-widgets/base",
     "model_module_version": "1.2.0",
     "model_name": "LayoutModel",
     "state": {
      "_model_module": "@jupyter-widgets/base",
      "_model_module_version": "1.2.0",
      "_model_name": "LayoutModel",
      "_view_count": null,
      "_view_module": "@jupyter-widgets/base",
      "_view_module_version": "1.2.0",
      "_view_name": "LayoutView",
      "align_content": null,
      "align_items": null,
      "align_self": null,
      "border": null,
      "bottom": null,
      "display": null,
      "flex": null,
      "flex_flow": null,
      "grid_area": null,
      "grid_auto_columns": null,
      "grid_auto_flow": null,
      "grid_auto_rows": null,
      "grid_column": null,
      "grid_gap": null,
      "grid_row": null,
      "grid_template_areas": null,
      "grid_template_columns": null,
      "grid_template_rows": null,
      "height": null,
      "justify_content": null,
      "justify_items": null,
      "left": null,
      "margin": null,
      "max_height": null,
      "max_width": null,
      "min_height": null,
      "min_width": null,
      "object_fit": null,
      "object_position": null,
      "order": null,
      "overflow": null,
      "overflow_x": null,
      "overflow_y": null,
      "padding": null,
      "right": null,
      "top": null,
      "visibility": null,
      "width": null
     }
    },
    "2a3d9fdf7b96498e96f426c12527ab25": {
     "model_module": "@jupyter-widgets/controls",
     "model_module_version": "1.5.0",
     "model_name": "DescriptionStyleModel",
     "state": {
      "_model_module": "@jupyter-widgets/controls",
      "_model_module_version": "1.5.0",
      "_model_name": "DescriptionStyleModel",
      "_view_count": null,
      "_view_module": "@jupyter-widgets/base",
      "_view_module_version": "1.2.0",
      "_view_name": "StyleView",
      "description_width": ""
     }
    },
    "2a8452526b8846769edd3ffb8cff0f90": {
     "model_module": "@jupyter-widgets/controls",
     "model_module_version": "1.5.0",
     "model_name": "HTMLModel",
     "state": {
      "_dom_classes": [],
      "_model_module": "@jupyter-widgets/controls",
      "_model_module_version": "1.5.0",
      "_model_name": "HTMLModel",
      "_view_count": null,
      "_view_module": "@jupyter-widgets/controls",
      "_view_module_version": "1.5.0",
      "_view_name": "HTMLView",
      "description": "",
      "description_tooltip": null,
      "layout": "IPY_MODEL_64833fd4f8dc449285ed10110ae194fe",
      "placeholder": "​",
      "style": "IPY_MODEL_e66dbbb7d21343d784627603d8c84f5c",
      "value": "Downloading: 100%"
     }
    },
    "354dbfe121c64ed6b8fb997b90e2695f": {
     "model_module": "@jupyter-widgets/controls",
     "model_module_version": "1.5.0",
     "model_name": "DescriptionStyleModel",
     "state": {
      "_model_module": "@jupyter-widgets/controls",
      "_model_module_version": "1.5.0",
      "_model_name": "DescriptionStyleModel",
      "_view_count": null,
      "_view_module": "@jupyter-widgets/base",
      "_view_module_version": "1.2.0",
      "_view_name": "StyleView",
      "description_width": ""
     }
    },
    "3c5ba96e15ce4b168a85cf8b1f7d746d": {
     "model_module": "@jupyter-widgets/base",
     "model_module_version": "1.2.0",
     "model_name": "LayoutModel",
     "state": {
      "_model_module": "@jupyter-widgets/base",
      "_model_module_version": "1.2.0",
      "_model_name": "LayoutModel",
      "_view_count": null,
      "_view_module": "@jupyter-widgets/base",
      "_view_module_version": "1.2.0",
      "_view_name": "LayoutView",
      "align_content": null,
      "align_items": null,
      "align_self": null,
      "border": null,
      "bottom": null,
      "display": null,
      "flex": null,
      "flex_flow": null,
      "grid_area": null,
      "grid_auto_columns": null,
      "grid_auto_flow": null,
      "grid_auto_rows": null,
      "grid_column": null,
      "grid_gap": null,
      "grid_row": null,
      "grid_template_areas": null,
      "grid_template_columns": null,
      "grid_template_rows": null,
      "height": null,
      "justify_content": null,
      "justify_items": null,
      "left": null,
      "margin": null,
      "max_height": null,
      "max_width": null,
      "min_height": null,
      "min_width": null,
      "object_fit": null,
      "object_position": null,
      "order": null,
      "overflow": null,
      "overflow_x": null,
      "overflow_y": null,
      "padding": null,
      "right": null,
      "top": null,
      "visibility": null,
      "width": null
     }
    },
    "3e685a376d27471586cce0c2ddeb89ec": {
     "model_module": "@jupyter-widgets/base",
     "model_module_version": "1.2.0",
     "model_name": "LayoutModel",
     "state": {
      "_model_module": "@jupyter-widgets/base",
      "_model_module_version": "1.2.0",
      "_model_name": "LayoutModel",
      "_view_count": null,
      "_view_module": "@jupyter-widgets/base",
      "_view_module_version": "1.2.0",
      "_view_name": "LayoutView",
      "align_content": null,
      "align_items": null,
      "align_self": null,
      "border": null,
      "bottom": null,
      "display": null,
      "flex": null,
      "flex_flow": null,
      "grid_area": null,
      "grid_auto_columns": null,
      "grid_auto_flow": null,
      "grid_auto_rows": null,
      "grid_column": null,
      "grid_gap": null,
      "grid_row": null,
      "grid_template_areas": null,
      "grid_template_columns": null,
      "grid_template_rows": null,
      "height": null,
      "justify_content": null,
      "justify_items": null,
      "left": null,
      "margin": null,
      "max_height": null,
      "max_width": null,
      "min_height": null,
      "min_width": null,
      "object_fit": null,
      "object_position": null,
      "order": null,
      "overflow": null,
      "overflow_x": null,
      "overflow_y": null,
      "padding": null,
      "right": null,
      "top": null,
      "visibility": null,
      "width": null
     }
    },
    "43cf216c44024bc8aac414978d1a6bb8": {
     "model_module": "@jupyter-widgets/base",
     "model_module_version": "1.2.0",
     "model_name": "LayoutModel",
     "state": {
      "_model_module": "@jupyter-widgets/base",
      "_model_module_version": "1.2.0",
      "_model_name": "LayoutModel",
      "_view_count": null,
      "_view_module": "@jupyter-widgets/base",
      "_view_module_version": "1.2.0",
      "_view_name": "LayoutView",
      "align_content": null,
      "align_items": null,
      "align_self": null,
      "border": null,
      "bottom": null,
      "display": null,
      "flex": null,
      "flex_flow": null,
      "grid_area": null,
      "grid_auto_columns": null,
      "grid_auto_flow": null,
      "grid_auto_rows": null,
      "grid_column": null,
      "grid_gap": null,
      "grid_row": null,
      "grid_template_areas": null,
      "grid_template_columns": null,
      "grid_template_rows": null,
      "height": null,
      "justify_content": null,
      "justify_items": null,
      "left": null,
      "margin": null,
      "max_height": null,
      "max_width": null,
      "min_height": null,
      "min_width": null,
      "object_fit": null,
      "object_position": null,
      "order": null,
      "overflow": null,
      "overflow_x": null,
      "overflow_y": null,
      "padding": null,
      "right": null,
      "top": null,
      "visibility": null,
      "width": null
     }
    },
    "43d86577a21e424494bd6d2c1f188b9f": {
     "model_module": "@jupyter-widgets/controls",
     "model_module_version": "1.5.0",
     "model_name": "HTMLModel",
     "state": {
      "_dom_classes": [],
      "_model_module": "@jupyter-widgets/controls",
      "_model_module_version": "1.5.0",
      "_model_name": "HTMLModel",
      "_view_count": null,
      "_view_module": "@jupyter-widgets/controls",
      "_view_module_version": "1.5.0",
      "_view_name": "HTMLView",
      "description": "",
      "description_tooltip": null,
      "layout": "IPY_MODEL_3c5ba96e15ce4b168a85cf8b1f7d746d",
      "placeholder": "​",
      "style": "IPY_MODEL_354dbfe121c64ed6b8fb997b90e2695f",
      "value": "Downloading: 100%"
     }
    },
    "447d1da0142941fd8ebe2fd4be098b85": {
     "model_module": "@jupyter-widgets/controls",
     "model_module_version": "1.5.0",
     "model_name": "HBoxModel",
     "state": {
      "_dom_classes": [],
      "_model_module": "@jupyter-widgets/controls",
      "_model_module_version": "1.5.0",
      "_model_name": "HBoxModel",
      "_view_count": null,
      "_view_module": "@jupyter-widgets/controls",
      "_view_module_version": "1.5.0",
      "_view_name": "HBoxView",
      "box_style": "",
      "children": [
       "IPY_MODEL_2a8452526b8846769edd3ffb8cff0f90",
       "IPY_MODEL_587e8f6fc0b142af8bb3781b81406c41",
       "IPY_MODEL_517aabc3ca954fb6918129c5969330f8"
      ],
      "layout": "IPY_MODEL_e3aedb804e1647f4990c36e226a61f16"
     }
    },
    "461c11ed1a43468ea79fe096e3413171": {
     "model_module": "@jupyter-widgets/controls",
     "model_module_version": "1.5.0",
     "model_name": "HTMLModel",
     "state": {
      "_dom_classes": [],
      "_model_module": "@jupyter-widgets/controls",
      "_model_module_version": "1.5.0",
      "_model_name": "HTMLModel",
      "_view_count": null,
      "_view_module": "@jupyter-widgets/controls",
      "_view_module_version": "1.5.0",
      "_view_name": "HTMLView",
      "description": "",
      "description_tooltip": null,
      "layout": "IPY_MODEL_df5313d8239e4b418e7cfb026cfa29f9",
      "placeholder": "​",
      "style": "IPY_MODEL_a8e5722d787149e6a1a33dcab195f5c9",
      "value": "Downloading: 100%"
     }
    },
    "4cc1fa3d23f04cec94319003f467c05a": {
     "model_module": "@jupyter-widgets/controls",
     "model_module_version": "1.5.0",
     "model_name": "FloatProgressModel",
     "state": {
      "_dom_classes": [],
      "_model_module": "@jupyter-widgets/controls",
      "_model_module_version": "1.5.0",
      "_model_name": "FloatProgressModel",
      "_view_count": null,
      "_view_module": "@jupyter-widgets/controls",
      "_view_module_version": "1.5.0",
      "_view_name": "ProgressView",
      "bar_style": "success",
      "description": "",
      "description_tooltip": null,
      "layout": "IPY_MODEL_3e685a376d27471586cce0c2ddeb89ec",
      "max": 669491321,
      "min": 0,
      "orientation": "horizontal",
      "style": "IPY_MODEL_691f7c23d49b40eeb956fc583b0bd429",
      "value": 669491321
     }
    },
    "4f4d17ee71a0478abc11f541edb78b34": {
     "model_module": "@jupyter-widgets/base",
     "model_module_version": "1.2.0",
     "model_name": "LayoutModel",
     "state": {
      "_model_module": "@jupyter-widgets/base",
      "_model_module_version": "1.2.0",
      "_model_name": "LayoutModel",
      "_view_count": null,
      "_view_module": "@jupyter-widgets/base",
      "_view_module_version": "1.2.0",
      "_view_name": "LayoutView",
      "align_content": null,
      "align_items": null,
      "align_self": null,
      "border": null,
      "bottom": null,
      "display": null,
      "flex": null,
      "flex_flow": null,
      "grid_area": null,
      "grid_auto_columns": null,
      "grid_auto_flow": null,
      "grid_auto_rows": null,
      "grid_column": null,
      "grid_gap": null,
      "grid_row": null,
      "grid_template_areas": null,
      "grid_template_columns": null,
      "grid_template_rows": null,
      "height": null,
      "justify_content": null,
      "justify_items": null,
      "left": null,
      "margin": null,
      "max_height": null,
      "max_width": null,
      "min_height": null,
      "min_width": null,
      "object_fit": null,
      "object_position": null,
      "order": null,
      "overflow": null,
      "overflow_x": null,
      "overflow_y": null,
      "padding": null,
      "right": null,
      "top": null,
      "visibility": null,
      "width": null
     }
    },
    "50325cbcb7ae484cafd2c77654ad40cb": {
     "model_module": "@jupyter-widgets/controls",
     "model_module_version": "1.5.0",
     "model_name": "ProgressStyleModel",
     "state": {
      "_model_module": "@jupyter-widgets/controls",
      "_model_module_version": "1.5.0",
      "_model_name": "ProgressStyleModel",
      "_view_count": null,
      "_view_module": "@jupyter-widgets/base",
      "_view_module_version": "1.2.0",
      "_view_name": "StyleView",
      "bar_color": null,
      "description_width": ""
     }
    },
    "512f3f15953449bdbae9307765023c25": {
     "model_module": "@jupyter-widgets/controls",
     "model_module_version": "1.5.0",
     "model_name": "DescriptionStyleModel",
     "state": {
      "_model_module": "@jupyter-widgets/controls",
      "_model_module_version": "1.5.0",
      "_model_name": "DescriptionStyleModel",
      "_view_count": null,
      "_view_module": "@jupyter-widgets/base",
      "_view_module_version": "1.2.0",
      "_view_name": "StyleView",
      "description_width": ""
     }
    },
    "517aabc3ca954fb6918129c5969330f8": {
     "model_module": "@jupyter-widgets/controls",
     "model_module_version": "1.5.0",
     "model_name": "HTMLModel",
     "state": {
      "_dom_classes": [],
      "_model_module": "@jupyter-widgets/controls",
      "_model_module_version": "1.5.0",
      "_model_name": "HTMLModel",
      "_view_count": null,
      "_view_module": "@jupyter-widgets/controls",
      "_view_module_version": "1.5.0",
      "_view_name": "HTMLView",
      "description": "",
      "description_tooltip": null,
      "layout": "IPY_MODEL_030bad8476b2443283fd41e44d0da83b",
      "placeholder": "​",
      "style": "IPY_MODEL_2a3d9fdf7b96498e96f426c12527ab25",
      "value": " 872k/872k [00:00&lt;00:00, 3.25MB/s]"
     }
    },
    "53aa21c98b5b4e239135e487fba8e9ba": {
     "model_module": "@jupyter-widgets/controls",
     "model_module_version": "1.5.0",
     "model_name": "HBoxModel",
     "state": {
      "_dom_classes": [],
      "_model_module": "@jupyter-widgets/controls",
      "_model_module_version": "1.5.0",
      "_model_name": "HBoxModel",
      "_view_count": null,
      "_view_module": "@jupyter-widgets/controls",
      "_view_module_version": "1.5.0",
      "_view_name": "HBoxView",
      "box_style": "",
      "children": [
       "IPY_MODEL_b8b79278e77346a49fc376e1793aa7d9",
       "IPY_MODEL_d5b9e9ee43a844529d8a31270836c886",
       "IPY_MODEL_a94f8dd41e134cebbd0955c56c265bfe"
      ],
      "layout": "IPY_MODEL_56d81e9c985343d78f70ffbe25a55810"
     }
    },
    "56d81e9c985343d78f70ffbe25a55810": {
     "model_module": "@jupyter-widgets/base",
     "model_module_version": "1.2.0",
     "model_name": "LayoutModel",
     "state": {
      "_model_module": "@jupyter-widgets/base",
      "_model_module_version": "1.2.0",
      "_model_name": "LayoutModel",
      "_view_count": null,
      "_view_module": "@jupyter-widgets/base",
      "_view_module_version": "1.2.0",
      "_view_name": "LayoutView",
      "align_content": null,
      "align_items": null,
      "align_self": null,
      "border": null,
      "bottom": null,
      "display": null,
      "flex": null,
      "flex_flow": null,
      "grid_area": null,
      "grid_auto_columns": null,
      "grid_auto_flow": null,
      "grid_auto_rows": null,
      "grid_column": null,
      "grid_gap": null,
      "grid_row": null,
      "grid_template_areas": null,
      "grid_template_columns": null,
      "grid_template_rows": null,
      "height": null,
      "justify_content": null,
      "justify_items": null,
      "left": null,
      "margin": null,
      "max_height": null,
      "max_width": null,
      "min_height": null,
      "min_width": null,
      "object_fit": null,
      "object_position": null,
      "order": null,
      "overflow": null,
      "overflow_x": null,
      "overflow_y": null,
      "padding": null,
      "right": null,
      "top": null,
      "visibility": null,
      "width": null
     }
    },
    "587e8f6fc0b142af8bb3781b81406c41": {
     "model_module": "@jupyter-widgets/controls",
     "model_module_version": "1.5.0",
     "model_name": "FloatProgressModel",
     "state": {
      "_dom_classes": [],
      "_model_module": "@jupyter-widgets/controls",
      "_model_module_version": "1.5.0",
      "_model_name": "FloatProgressModel",
      "_view_count": null,
      "_view_module": "@jupyter-widgets/controls",
      "_view_module_version": "1.5.0",
      "_view_name": "ProgressView",
      "bar_style": "success",
      "description": "",
      "description_tooltip": null,
      "layout": "IPY_MODEL_4f4d17ee71a0478abc11f541edb78b34",
      "max": 871891,
      "min": 0,
      "orientation": "horizontal",
      "style": "IPY_MODEL_9de73da66ffa452fb8a9e9be6b87ed52",
      "value": 871891
     }
    },
    "593a1c5079684971bf49e0cea8225ca1": {
     "model_module": "@jupyter-widgets/controls",
     "model_module_version": "1.5.0",
     "model_name": "FloatProgressModel",
     "state": {
      "_dom_classes": [],
      "_model_module": "@jupyter-widgets/controls",
      "_model_module_version": "1.5.0",
      "_model_name": "FloatProgressModel",
      "_view_count": null,
      "_view_module": "@jupyter-widgets/controls",
      "_view_module_version": "1.5.0",
      "_view_name": "ProgressView",
      "bar_style": "success",
      "description": "",
      "description_tooltip": null,
      "layout": "IPY_MODEL_d24319ea2e254945995464f59e0aebcd",
      "max": 39,
      "min": 0,
      "orientation": "horizontal",
      "style": "IPY_MODEL_99f12fd127ae4069a03cb6b2d46c4fe7",
      "value": 39
     }
    },
    "6253e19827854a0092d69a81aeae3efe": {
     "model_module": "@jupyter-widgets/base",
     "model_module_version": "1.2.0",
     "model_name": "LayoutModel",
     "state": {
      "_model_module": "@jupyter-widgets/base",
      "_model_module_version": "1.2.0",
      "_model_name": "LayoutModel",
      "_view_count": null,
      "_view_module": "@jupyter-widgets/base",
      "_view_module_version": "1.2.0",
      "_view_name": "LayoutView",
      "align_content": null,
      "align_items": null,
      "align_self": null,
      "border": null,
      "bottom": null,
      "display": null,
      "flex": null,
      "flex_flow": null,
      "grid_area": null,
      "grid_auto_columns": null,
      "grid_auto_flow": null,
      "grid_auto_rows": null,
      "grid_column": null,
      "grid_gap": null,
      "grid_row": null,
      "grid_template_areas": null,
      "grid_template_columns": null,
      "grid_template_rows": null,
      "height": null,
      "justify_content": null,
      "justify_items": null,
      "left": null,
      "margin": null,
      "max_height": null,
      "max_width": null,
      "min_height": null,
      "min_width": null,
      "object_fit": null,
      "object_position": null,
      "order": null,
      "overflow": null,
      "overflow_x": null,
      "overflow_y": null,
      "padding": null,
      "right": null,
      "top": null,
      "visibility": null,
      "width": null
     }
    },
    "64833fd4f8dc449285ed10110ae194fe": {
     "model_module": "@jupyter-widgets/base",
     "model_module_version": "1.2.0",
     "model_name": "LayoutModel",
     "state": {
      "_model_module": "@jupyter-widgets/base",
      "_model_module_version": "1.2.0",
      "_model_name": "LayoutModel",
      "_view_count": null,
      "_view_module": "@jupyter-widgets/base",
      "_view_module_version": "1.2.0",
      "_view_name": "LayoutView",
      "align_content": null,
      "align_items": null,
      "align_self": null,
      "border": null,
      "bottom": null,
      "display": null,
      "flex": null,
      "flex_flow": null,
      "grid_area": null,
      "grid_auto_columns": null,
      "grid_auto_flow": null,
      "grid_auto_rows": null,
      "grid_column": null,
      "grid_gap": null,
      "grid_row": null,
      "grid_template_areas": null,
      "grid_template_columns": null,
      "grid_template_rows": null,
      "height": null,
      "justify_content": null,
      "justify_items": null,
      "left": null,
      "margin": null,
      "max_height": null,
      "max_width": null,
      "min_height": null,
      "min_width": null,
      "object_fit": null,
      "object_position": null,
      "order": null,
      "overflow": null,
      "overflow_x": null,
      "overflow_y": null,
      "padding": null,
      "right": null,
      "top": null,
      "visibility": null,
      "width": null
     }
    },
    "691f7c23d49b40eeb956fc583b0bd429": {
     "model_module": "@jupyter-widgets/controls",
     "model_module_version": "1.5.0",
     "model_name": "ProgressStyleModel",
     "state": {
      "_model_module": "@jupyter-widgets/controls",
      "_model_module_version": "1.5.0",
      "_model_name": "ProgressStyleModel",
      "_view_count": null,
      "_view_module": "@jupyter-widgets/base",
      "_view_module_version": "1.2.0",
      "_view_name": "StyleView",
      "bar_color": null,
      "description_width": ""
     }
    },
    "6c3ff0f268c9489cb6c5e0701d9a7e0e": {
     "model_module": "@jupyter-widgets/base",
     "model_module_version": "1.2.0",
     "model_name": "LayoutModel",
     "state": {
      "_model_module": "@jupyter-widgets/base",
      "_model_module_version": "1.2.0",
      "_model_name": "LayoutModel",
      "_view_count": null,
      "_view_module": "@jupyter-widgets/base",
      "_view_module_version": "1.2.0",
      "_view_name": "LayoutView",
      "align_content": null,
      "align_items": null,
      "align_self": null,
      "border": null,
      "bottom": null,
      "display": null,
      "flex": null,
      "flex_flow": null,
      "grid_area": null,
      "grid_auto_columns": null,
      "grid_auto_flow": null,
      "grid_auto_rows": null,
      "grid_column": null,
      "grid_gap": null,
      "grid_row": null,
      "grid_template_areas": null,
      "grid_template_columns": null,
      "grid_template_rows": null,
      "height": null,
      "justify_content": null,
      "justify_items": null,
      "left": null,
      "margin": null,
      "max_height": null,
      "max_width": null,
      "min_height": null,
      "min_width": null,
      "object_fit": null,
      "object_position": null,
      "order": null,
      "overflow": null,
      "overflow_x": null,
      "overflow_y": null,
      "padding": null,
      "right": null,
      "top": null,
      "visibility": null,
      "width": null
     }
    },
    "718867b866f44ad0a2ed0349be17caa5": {
     "model_module": "@jupyter-widgets/controls",
     "model_module_version": "1.5.0",
     "model_name": "HTMLModel",
     "state": {
      "_dom_classes": [],
      "_model_module": "@jupyter-widgets/controls",
      "_model_module_version": "1.5.0",
      "_model_name": "HTMLModel",
      "_view_count": null,
      "_view_module": "@jupyter-widgets/controls",
      "_view_module_version": "1.5.0",
      "_view_name": "HTMLView",
      "description": "",
      "description_tooltip": null,
      "layout": "IPY_MODEL_16a833e96670449fa3f401a94ea37e0e",
      "placeholder": "​",
      "style": "IPY_MODEL_d02b48d710214c5b8f3cbc52099a6892",
      "value": "Downloading: 100%"
     }
    },
    "807aaf836f7e4a41b4f2c16336bb93ba": {
     "model_module": "@jupyter-widgets/controls",
     "model_module_version": "1.5.0",
     "model_name": "DescriptionStyleModel",
     "state": {
      "_model_module": "@jupyter-widgets/controls",
      "_model_module_version": "1.5.0",
      "_model_name": "DescriptionStyleModel",
      "_view_count": null,
      "_view_module": "@jupyter-widgets/base",
      "_view_module_version": "1.2.0",
      "_view_name": "StyleView",
      "description_width": ""
     }
    },
    "82b250c13bb24ba986e181c182220bbd": {
     "model_module": "@jupyter-widgets/controls",
     "model_module_version": "1.5.0",
     "model_name": "DescriptionStyleModel",
     "state": {
      "_model_module": "@jupyter-widgets/controls",
      "_model_module_version": "1.5.0",
      "_model_name": "DescriptionStyleModel",
      "_view_count": null,
      "_view_module": "@jupyter-widgets/base",
      "_view_module_version": "1.2.0",
      "_view_name": "StyleView",
      "description_width": ""
     }
    },
    "95d53e594d294a119ffb5cd72d7cb0ff": {
     "model_module": "@jupyter-widgets/controls",
     "model_module_version": "1.5.0",
     "model_name": "ProgressStyleModel",
     "state": {
      "_model_module": "@jupyter-widgets/controls",
      "_model_module_version": "1.5.0",
      "_model_name": "ProgressStyleModel",
      "_view_count": null,
      "_view_module": "@jupyter-widgets/base",
      "_view_module_version": "1.2.0",
      "_view_name": "StyleView",
      "bar_color": null,
      "description_width": ""
     }
    },
    "99f12fd127ae4069a03cb6b2d46c4fe7": {
     "model_module": "@jupyter-widgets/controls",
     "model_module_version": "1.5.0",
     "model_name": "ProgressStyleModel",
     "state": {
      "_model_module": "@jupyter-widgets/controls",
      "_model_module_version": "1.5.0",
      "_model_name": "ProgressStyleModel",
      "_view_count": null,
      "_view_module": "@jupyter-widgets/base",
      "_view_module_version": "1.2.0",
      "_view_name": "StyleView",
      "bar_color": null,
      "description_width": ""
     }
    },
    "9de73da66ffa452fb8a9e9be6b87ed52": {
     "model_module": "@jupyter-widgets/controls",
     "model_module_version": "1.5.0",
     "model_name": "ProgressStyleModel",
     "state": {
      "_model_module": "@jupyter-widgets/controls",
      "_model_module_version": "1.5.0",
      "_model_name": "ProgressStyleModel",
      "_view_count": null,
      "_view_module": "@jupyter-widgets/base",
      "_view_module_version": "1.2.0",
      "_view_name": "StyleView",
      "bar_color": null,
      "description_width": ""
     }
    },
    "9faeecad51ae4505949f9e96beef3c05": {
     "model_module": "@jupyter-widgets/controls",
     "model_module_version": "1.5.0",
     "model_name": "HBoxModel",
     "state": {
      "_dom_classes": [],
      "_model_module": "@jupyter-widgets/controls",
      "_model_module_version": "1.5.0",
      "_model_name": "HBoxModel",
      "_view_count": null,
      "_view_module": "@jupyter-widgets/controls",
      "_view_module_version": "1.5.0",
      "_view_name": "HBoxView",
      "box_style": "",
      "children": [
       "IPY_MODEL_461c11ed1a43468ea79fe096e3413171",
       "IPY_MODEL_593a1c5079684971bf49e0cea8225ca1",
       "IPY_MODEL_175cbcfd8e974b808c8bfcd47eaefbe0"
      ],
      "layout": "IPY_MODEL_a591437ae8bf4ccfacb68b4e3aa8e5a0"
     }
    },
    "a1c1cc874e2448a8a6e07304082b11b6": {
     "model_module": "@jupyter-widgets/base",
     "model_module_version": "1.2.0",
     "model_name": "LayoutModel",
     "state": {
      "_model_module": "@jupyter-widgets/base",
      "_model_module_version": "1.2.0",
      "_model_name": "LayoutModel",
      "_view_count": null,
      "_view_module": "@jupyter-widgets/base",
      "_view_module_version": "1.2.0",
      "_view_name": "LayoutView",
      "align_content": null,
      "align_items": null,
      "align_self": null,
      "border": null,
      "bottom": null,
      "display": null,
      "flex": null,
      "flex_flow": null,
      "grid_area": null,
      "grid_auto_columns": null,
      "grid_auto_flow": null,
      "grid_auto_rows": null,
      "grid_column": null,
      "grid_gap": null,
      "grid_row": null,
      "grid_template_areas": null,
      "grid_template_columns": null,
      "grid_template_rows": null,
      "height": null,
      "justify_content": null,
      "justify_items": null,
      "left": null,
      "margin": null,
      "max_height": null,
      "max_width": null,
      "min_height": null,
      "min_width": null,
      "object_fit": null,
      "object_position": null,
      "order": null,
      "overflow": null,
      "overflow_x": null,
      "overflow_y": null,
      "padding": null,
      "right": null,
      "top": null,
      "visibility": null,
      "width": null
     }
    },
    "a302b7e200b54b3caa23f8c9f321565f": {
     "model_module": "@jupyter-widgets/controls",
     "model_module_version": "1.5.0",
     "model_name": "FloatProgressModel",
     "state": {
      "_dom_classes": [],
      "_model_module": "@jupyter-widgets/controls",
      "_model_module_version": "1.5.0",
      "_model_name": "FloatProgressModel",
      "_view_count": null,
      "_view_module": "@jupyter-widgets/controls",
      "_view_module_version": "1.5.0",
      "_view_name": "ProgressView",
      "bar_style": "success",
      "description": "",
      "description_tooltip": null,
      "layout": "IPY_MODEL_6c3ff0f268c9489cb6c5e0701d9a7e0e",
      "max": 953,
      "min": 0,
      "orientation": "horizontal",
      "style": "IPY_MODEL_95d53e594d294a119ffb5cd72d7cb0ff",
      "value": 953
     }
    },
    "a591437ae8bf4ccfacb68b4e3aa8e5a0": {
     "model_module": "@jupyter-widgets/base",
     "model_module_version": "1.2.0",
     "model_name": "LayoutModel",
     "state": {
      "_model_module": "@jupyter-widgets/base",
      "_model_module_version": "1.2.0",
      "_model_name": "LayoutModel",
      "_view_count": null,
      "_view_module": "@jupyter-widgets/base",
      "_view_module_version": "1.2.0",
      "_view_name": "LayoutView",
      "align_content": null,
      "align_items": null,
      "align_self": null,
      "border": null,
      "bottom": null,
      "display": null,
      "flex": null,
      "flex_flow": null,
      "grid_area": null,
      "grid_auto_columns": null,
      "grid_auto_flow": null,
      "grid_auto_rows": null,
      "grid_column": null,
      "grid_gap": null,
      "grid_row": null,
      "grid_template_areas": null,
      "grid_template_columns": null,
      "grid_template_rows": null,
      "height": null,
      "justify_content": null,
      "justify_items": null,
      "left": null,
      "margin": null,
      "max_height": null,
      "max_width": null,
      "min_height": null,
      "min_width": null,
      "object_fit": null,
      "object_position": null,
      "order": null,
      "overflow": null,
      "overflow_x": null,
      "overflow_y": null,
      "padding": null,
      "right": null,
      "top": null,
      "visibility": null,
      "width": null
     }
    },
    "a8e5722d787149e6a1a33dcab195f5c9": {
     "model_module": "@jupyter-widgets/controls",
     "model_module_version": "1.5.0",
     "model_name": "DescriptionStyleModel",
     "state": {
      "_model_module": "@jupyter-widgets/controls",
      "_model_module_version": "1.5.0",
      "_model_name": "DescriptionStyleModel",
      "_view_count": null,
      "_view_module": "@jupyter-widgets/base",
      "_view_module_version": "1.2.0",
      "_view_name": "StyleView",
      "description_width": ""
     }
    },
    "a94f8dd41e134cebbd0955c56c265bfe": {
     "model_module": "@jupyter-widgets/controls",
     "model_module_version": "1.5.0",
     "model_name": "HTMLModel",
     "state": {
      "_dom_classes": [],
      "_model_module": "@jupyter-widgets/controls",
      "_model_module_version": "1.5.0",
      "_model_name": "HTMLModel",
      "_view_count": null,
      "_view_module": "@jupyter-widgets/controls",
      "_view_module_version": "1.5.0",
      "_view_name": "HTMLView",
      "description": "",
      "description_tooltip": null,
      "layout": "IPY_MODEL_6253e19827854a0092d69a81aeae3efe",
      "placeholder": "​",
      "style": "IPY_MODEL_1a2e7ac59aa747c5abe150387bec783a",
      "value": " 112/112 [00:00&lt;00:00, 1.40kB/s]"
     }
    },
    "b8b79278e77346a49fc376e1793aa7d9": {
     "model_module": "@jupyter-widgets/controls",
     "model_module_version": "1.5.0",
     "model_name": "HTMLModel",
     "state": {
      "_dom_classes": [],
      "_model_module": "@jupyter-widgets/controls",
      "_model_module_version": "1.5.0",
      "_model_name": "HTMLModel",
      "_view_count": null,
      "_view_module": "@jupyter-widgets/controls",
      "_view_module_version": "1.5.0",
      "_view_name": "HTMLView",
      "description": "",
      "description_tooltip": null,
      "layout": "IPY_MODEL_a1c1cc874e2448a8a6e07304082b11b6",
      "placeholder": "​",
      "style": "IPY_MODEL_bc70c0b38f7f4495a6d12028468b94ee",
      "value": "Downloading: 100%"
     }
    },
    "bc70c0b38f7f4495a6d12028468b94ee": {
     "model_module": "@jupyter-widgets/controls",
     "model_module_version": "1.5.0",
     "model_name": "DescriptionStyleModel",
     "state": {
      "_model_module": "@jupyter-widgets/controls",
      "_model_module_version": "1.5.0",
      "_model_name": "DescriptionStyleModel",
      "_view_count": null,
      "_view_module": "@jupyter-widgets/base",
      "_view_module_version": "1.2.0",
      "_view_name": "StyleView",
      "description_width": ""
     }
    },
    "cb91268e512c41abb34f4c1ce86f53b2": {
     "model_module": "@jupyter-widgets/base",
     "model_module_version": "1.2.0",
     "model_name": "LayoutModel",
     "state": {
      "_model_module": "@jupyter-widgets/base",
      "_model_module_version": "1.2.0",
      "_model_name": "LayoutModel",
      "_view_count": null,
      "_view_module": "@jupyter-widgets/base",
      "_view_module_version": "1.2.0",
      "_view_name": "LayoutView",
      "align_content": null,
      "align_items": null,
      "align_self": null,
      "border": null,
      "bottom": null,
      "display": null,
      "flex": null,
      "flex_flow": null,
      "grid_area": null,
      "grid_auto_columns": null,
      "grid_auto_flow": null,
      "grid_auto_rows": null,
      "grid_column": null,
      "grid_gap": null,
      "grid_row": null,
      "grid_template_areas": null,
      "grid_template_columns": null,
      "grid_template_rows": null,
      "height": null,
      "justify_content": null,
      "justify_items": null,
      "left": null,
      "margin": null,
      "max_height": null,
      "max_width": null,
      "min_height": null,
      "min_width": null,
      "object_fit": null,
      "object_position": null,
      "order": null,
      "overflow": null,
      "overflow_x": null,
      "overflow_y": null,
      "padding": null,
      "right": null,
      "top": null,
      "visibility": null,
      "width": null
     }
    },
    "d02b48d710214c5b8f3cbc52099a6892": {
     "model_module": "@jupyter-widgets/controls",
     "model_module_version": "1.5.0",
     "model_name": "DescriptionStyleModel",
     "state": {
      "_model_module": "@jupyter-widgets/controls",
      "_model_module_version": "1.5.0",
      "_model_name": "DescriptionStyleModel",
      "_view_count": null,
      "_view_module": "@jupyter-widgets/base",
      "_view_module_version": "1.2.0",
      "_view_name": "StyleView",
      "description_width": ""
     }
    },
    "d24319ea2e254945995464f59e0aebcd": {
     "model_module": "@jupyter-widgets/base",
     "model_module_version": "1.2.0",
     "model_name": "LayoutModel",
     "state": {
      "_model_module": "@jupyter-widgets/base",
      "_model_module_version": "1.2.0",
      "_model_name": "LayoutModel",
      "_view_count": null,
      "_view_module": "@jupyter-widgets/base",
      "_view_module_version": "1.2.0",
      "_view_name": "LayoutView",
      "align_content": null,
      "align_items": null,
      "align_self": null,
      "border": null,
      "bottom": null,
      "display": null,
      "flex": null,
      "flex_flow": null,
      "grid_area": null,
      "grid_auto_columns": null,
      "grid_auto_flow": null,
      "grid_auto_rows": null,
      "grid_column": null,
      "grid_gap": null,
      "grid_row": null,
      "grid_template_areas": null,
      "grid_template_columns": null,
      "grid_template_rows": null,
      "height": null,
      "justify_content": null,
      "justify_items": null,
      "left": null,
      "margin": null,
      "max_height": null,
      "max_width": null,
      "min_height": null,
      "min_width": null,
      "object_fit": null,
      "object_position": null,
      "order": null,
      "overflow": null,
      "overflow_x": null,
      "overflow_y": null,
      "padding": null,
      "right": null,
      "top": null,
      "visibility": null,
      "width": null
     }
    },
    "d2920f632b094112a1861f5251abb6da": {
     "model_module": "@jupyter-widgets/controls",
     "model_module_version": "1.5.0",
     "model_name": "HBoxModel",
     "state": {
      "_dom_classes": [],
      "_model_module": "@jupyter-widgets/controls",
      "_model_module_version": "1.5.0",
      "_model_name": "HBoxModel",
      "_view_count": null,
      "_view_module": "@jupyter-widgets/controls",
      "_view_module_version": "1.5.0",
      "_view_name": "HBoxView",
      "box_style": "",
      "children": [
       "IPY_MODEL_718867b866f44ad0a2ed0349be17caa5",
       "IPY_MODEL_4cc1fa3d23f04cec94319003f467c05a",
       "IPY_MODEL_ea6f7336851d4f43830334870e46fe03"
      ],
      "layout": "IPY_MODEL_f44c280599904df1b8ebb65c63c2e5a9"
     }
    },
    "d5b9e9ee43a844529d8a31270836c886": {
     "model_module": "@jupyter-widgets/controls",
     "model_module_version": "1.5.0",
     "model_name": "FloatProgressModel",
     "state": {
      "_dom_classes": [],
      "_model_module": "@jupyter-widgets/controls",
      "_model_module_version": "1.5.0",
      "_model_name": "FloatProgressModel",
      "_view_count": null,
      "_view_module": "@jupyter-widgets/controls",
      "_view_module_version": "1.5.0",
      "_view_name": "ProgressView",
      "bar_style": "success",
      "description": "",
      "description_tooltip": null,
      "layout": "IPY_MODEL_1c65b9de93554cde80e6d4d328899915",
      "max": 112,
      "min": 0,
      "orientation": "horizontal",
      "style": "IPY_MODEL_50325cbcb7ae484cafd2c77654ad40cb",
      "value": 112
     }
    },
    "df5313d8239e4b418e7cfb026cfa29f9": {
     "model_module": "@jupyter-widgets/base",
     "model_module_version": "1.2.0",
     "model_name": "LayoutModel",
     "state": {
      "_model_module": "@jupyter-widgets/base",
      "_model_module_version": "1.2.0",
      "_model_name": "LayoutModel",
      "_view_count": null,
      "_view_module": "@jupyter-widgets/base",
      "_view_module_version": "1.2.0",
      "_view_name": "LayoutView",
      "align_content": null,
      "align_items": null,
      "align_self": null,
      "border": null,
      "bottom": null,
      "display": null,
      "flex": null,
      "flex_flow": null,
      "grid_area": null,
      "grid_auto_columns": null,
      "grid_auto_flow": null,
      "grid_auto_rows": null,
      "grid_column": null,
      "grid_gap": null,
      "grid_row": null,
      "grid_template_areas": null,
      "grid_template_columns": null,
      "grid_template_rows": null,
      "height": null,
      "justify_content": null,
      "justify_items": null,
      "left": null,
      "margin": null,
      "max_height": null,
      "max_width": null,
      "min_height": null,
      "min_width": null,
      "object_fit": null,
      "object_position": null,
      "order": null,
      "overflow": null,
      "overflow_x": null,
      "overflow_y": null,
      "padding": null,
      "right": null,
      "top": null,
      "visibility": null,
      "width": null
     }
    },
    "e3aedb804e1647f4990c36e226a61f16": {
     "model_module": "@jupyter-widgets/base",
     "model_module_version": "1.2.0",
     "model_name": "LayoutModel",
     "state": {
      "_model_module": "@jupyter-widgets/base",
      "_model_module_version": "1.2.0",
      "_model_name": "LayoutModel",
      "_view_count": null,
      "_view_module": "@jupyter-widgets/base",
      "_view_module_version": "1.2.0",
      "_view_name": "LayoutView",
      "align_content": null,
      "align_items": null,
      "align_self": null,
      "border": null,
      "bottom": null,
      "display": null,
      "flex": null,
      "flex_flow": null,
      "grid_area": null,
      "grid_auto_columns": null,
      "grid_auto_flow": null,
      "grid_auto_rows": null,
      "grid_column": null,
      "grid_gap": null,
      "grid_row": null,
      "grid_template_areas": null,
      "grid_template_columns": null,
      "grid_template_rows": null,
      "height": null,
      "justify_content": null,
      "justify_items": null,
      "left": null,
      "margin": null,
      "max_height": null,
      "max_width": null,
      "min_height": null,
      "min_width": null,
      "object_fit": null,
      "object_position": null,
      "order": null,
      "overflow": null,
      "overflow_x": null,
      "overflow_y": null,
      "padding": null,
      "right": null,
      "top": null,
      "visibility": null,
      "width": null
     }
    },
    "e66dbbb7d21343d784627603d8c84f5c": {
     "model_module": "@jupyter-widgets/controls",
     "model_module_version": "1.5.0",
     "model_name": "DescriptionStyleModel",
     "state": {
      "_model_module": "@jupyter-widgets/controls",
      "_model_module_version": "1.5.0",
      "_model_name": "DescriptionStyleModel",
      "_view_count": null,
      "_view_module": "@jupyter-widgets/base",
      "_view_module_version": "1.2.0",
      "_view_name": "StyleView",
      "description_width": ""
     }
    },
    "ea6f7336851d4f43830334870e46fe03": {
     "model_module": "@jupyter-widgets/controls",
     "model_module_version": "1.5.0",
     "model_name": "HTMLModel",
     "state": {
      "_dom_classes": [],
      "_model_module": "@jupyter-widgets/controls",
      "_model_module_version": "1.5.0",
      "_model_name": "HTMLModel",
      "_view_count": null,
      "_view_module": "@jupyter-widgets/controls",
      "_view_module_version": "1.5.0",
      "_view_name": "HTMLView",
      "description": "",
      "description_tooltip": null,
      "layout": "IPY_MODEL_1711138d725c4b1aa438ee8345a94329",
      "placeholder": "​",
      "style": "IPY_MODEL_512f3f15953449bdbae9307765023c25",
      "value": " 669M/669M [00:20&lt;00:00, 34.6MB/s]"
     }
    },
    "eedd9426ed324c13878b182671454d8a": {
     "model_module": "@jupyter-widgets/controls",
     "model_module_version": "1.5.0",
     "model_name": "HTMLModel",
     "state": {
      "_dom_classes": [],
      "_model_module": "@jupyter-widgets/controls",
      "_model_module_version": "1.5.0",
      "_model_name": "HTMLModel",
      "_view_count": null,
      "_view_module": "@jupyter-widgets/controls",
      "_view_module_version": "1.5.0",
      "_view_name": "HTMLView",
      "description": "",
      "description_tooltip": null,
      "layout": "IPY_MODEL_f771d1b7af9c4384824ebde4663ccee3",
      "placeholder": "​",
      "style": "IPY_MODEL_807aaf836f7e4a41b4f2c16336bb93ba",
      "value": " 953/953 [00:00&lt;00:00, 35.3kB/s]"
     }
    },
    "f44c280599904df1b8ebb65c63c2e5a9": {
     "model_module": "@jupyter-widgets/base",
     "model_module_version": "1.2.0",
     "model_name": "LayoutModel",
     "state": {
      "_model_module": "@jupyter-widgets/base",
      "_model_module_version": "1.2.0",
      "_model_name": "LayoutModel",
      "_view_count": null,
      "_view_module": "@jupyter-widgets/base",
      "_view_module_version": "1.2.0",
      "_view_name": "LayoutView",
      "align_content": null,
      "align_items": null,
      "align_self": null,
      "border": null,
      "bottom": null,
      "display": null,
      "flex": null,
      "flex_flow": null,
      "grid_area": null,
      "grid_auto_columns": null,
      "grid_auto_flow": null,
      "grid_auto_rows": null,
      "grid_column": null,
      "grid_gap": null,
      "grid_row": null,
      "grid_template_areas": null,
      "grid_template_columns": null,
      "grid_template_rows": null,
      "height": null,
      "justify_content": null,
      "justify_items": null,
      "left": null,
      "margin": null,
      "max_height": null,
      "max_width": null,
      "min_height": null,
      "min_width": null,
      "object_fit": null,
      "object_position": null,
      "order": null,
      "overflow": null,
      "overflow_x": null,
      "overflow_y": null,
      "padding": null,
      "right": null,
      "top": null,
      "visibility": null,
      "width": null
     }
    },
    "f771d1b7af9c4384824ebde4663ccee3": {
     "model_module": "@jupyter-widgets/base",
     "model_module_version": "1.2.0",
     "model_name": "LayoutModel",
     "state": {
      "_model_module": "@jupyter-widgets/base",
      "_model_module_version": "1.2.0",
      "_model_name": "LayoutModel",
      "_view_count": null,
      "_view_module": "@jupyter-widgets/base",
      "_view_module_version": "1.2.0",
      "_view_name": "LayoutView",
      "align_content": null,
      "align_items": null,
      "align_self": null,
      "border": null,
      "bottom": null,
      "display": null,
      "flex": null,
      "flex_flow": null,
      "grid_area": null,
      "grid_auto_columns": null,
      "grid_auto_flow": null,
      "grid_auto_rows": null,
      "grid_column": null,
      "grid_gap": null,
      "grid_row": null,
      "grid_template_areas": null,
      "grid_template_columns": null,
      "grid_template_rows": null,
      "height": null,
      "justify_content": null,
      "justify_items": null,
      "left": null,
      "margin": null,
      "max_height": null,
      "max_width": null,
      "min_height": null,
      "min_width": null,
      "object_fit": null,
      "object_position": null,
      "order": null,
      "overflow": null,
      "overflow_x": null,
      "overflow_y": null,
      "padding": null,
      "right": null,
      "top": null,
      "visibility": null,
      "width": null
     }
    }
   }
  }
 },
 "nbformat": 4,
 "nbformat_minor": 4
}
